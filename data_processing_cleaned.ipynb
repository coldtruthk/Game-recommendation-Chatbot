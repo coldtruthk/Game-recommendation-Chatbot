{
 "cells": [
  {
   "cell_type": "markdown",
   "metadata": {
    "id": "Dh72G4je-oxv"
   },
   "source": [
    "# 1. 라이브러리 Import\n"
   ]
  },
  {
   "cell_type": "code",
   "execution_count": 1,
   "metadata": {
    "colab": {
     "base_uri": "https://localhost:8080/"
    },
    "id": "sbDmqNdt5d2N",
    "outputId": "d572305d-cae4-48a4-a91b-9910b79bf463"
   },
   "outputs": [
    {
     "name": "stdout",
     "output_type": "stream",
     "text": [
      "\u001b[2K   \u001b[90m━━━━━━━━━━━━━━━━━━━━━━━━━━━━━━━━━━━━━━━━\u001b[0m \u001b[32m105.0/105.0 MB\u001b[0m \u001b[31m7.3 MB/s\u001b[0m eta \u001b[36m0:00:00\u001b[0m\n",
      "\u001b[2K   \u001b[90m━━━━━━━━━━━━━━━━━━━━━━━━━━━━━━━━━━━━━━━━\u001b[0m \u001b[32m183.4/183.4 kB\u001b[0m \u001b[31m9.3 MB/s\u001b[0m eta \u001b[36m0:00:00\u001b[0m\n",
      "\u001b[2K   \u001b[90m━━━━━━━━━━━━━━━━━━━━━━━━━━━━━━━━━━━━━━━━\u001b[0m \u001b[32m150.9/150.9 kB\u001b[0m \u001b[31m10.0 MB/s\u001b[0m eta \u001b[36m0:00:00\u001b[0m\n",
      "\u001b[2K   \u001b[90m━━━━━━━━━━━━━━━━━━━━━━━━━━━━━━━━━━━━━━━━\u001b[0m \u001b[32m112.1/112.1 kB\u001b[0m \u001b[31m8.7 MB/s\u001b[0m eta \u001b[36m0:00:00\u001b[0m\n",
      "\u001b[2K   \u001b[90m━━━━━━━━━━━━━━━━━━━━━━━━━━━━━━━━━━━━━━━━\u001b[0m \u001b[32m480.6/480.6 kB\u001b[0m \u001b[31m27.3 MB/s\u001b[0m eta \u001b[36m0:00:00\u001b[0m\n",
      "\u001b[2K   \u001b[90m━━━━━━━━━━━━━━━━━━━━━━━━━━━━━━━━━━━━━━━━\u001b[0m \u001b[32m116.3/116.3 kB\u001b[0m \u001b[31m5.5 MB/s\u001b[0m eta \u001b[36m0:00:00\u001b[0m\n",
      "\u001b[2K   \u001b[90m━━━━━━━━━━━━━━━━━━━━━━━━━━━━━━━━━━━━━━━━\u001b[0m \u001b[32m179.3/179.3 kB\u001b[0m \u001b[31m13.4 MB/s\u001b[0m eta \u001b[36m0:00:00\u001b[0m\n",
      "\u001b[2K   \u001b[90m━━━━━━━━━━━━━━━━━━━━━━━━━━━━━━━━━━━━━━━━\u001b[0m \u001b[32m134.8/134.8 kB\u001b[0m \u001b[31m9.7 MB/s\u001b[0m eta \u001b[36m0:00:00\u001b[0m\n",
      "\u001b[2K   \u001b[90m━━━━━━━━━━━━━━━━━━━━━━━━━━━━━━━━━━━━━━━━\u001b[0m \u001b[32m194.1/194.1 kB\u001b[0m \u001b[31m15.2 MB/s\u001b[0m eta \u001b[36m0:00:00\u001b[0m\n",
      "\u001b[?25h\u001b[31mERROR: pip's dependency resolver does not currently take into account all the packages that are installed. This behaviour is the source of the following dependency conflicts.\n",
      "gcsfs 2024.10.0 requires fsspec==2024.10.0, but you have fsspec 2024.9.0 which is incompatible.\u001b[0m\u001b[31m\n",
      "\u001b[2K   \u001b[90m━━━━━━━━━━━━━━━━━━━━━━━━━━━━━━━━━━━━━━━━\u001b[0m \u001b[32m279.7/279.7 kB\u001b[0m \u001b[31m15.3 MB/s\u001b[0m eta \u001b[36m0:00:00\u001b[0m\n",
      "\u001b[2K   \u001b[90m━━━━━━━━━━━━━━━━━━━━━━━━━━━━━━━━━━━━━━━━\u001b[0m \u001b[32m536.6/536.6 kB\u001b[0m \u001b[31m26.8 MB/s\u001b[0m eta \u001b[36m0:00:00\u001b[0m\n",
      "\u001b[2K   \u001b[90m━━━━━━━━━━━━━━━━━━━━━━━━━━━━━━━━━━━━━━━━\u001b[0m \u001b[32m166.4/166.4 kB\u001b[0m \u001b[31m11.3 MB/s\u001b[0m eta \u001b[36m0:00:00\u001b[0m\n",
      "\u001b[?25h\u001b[31mERROR: pip's dependency resolver does not currently take into account all the packages that are installed. This behaviour is the source of the following dependency conflicts.\n",
      "gcsfs 2024.10.0 requires fsspec==2024.10.0, but you have fsspec 2023.10.0 which is incompatible.\u001b[0m\u001b[31m\n",
      "\u001b[2K     \u001b[90m━━━━━━━━━━━━━━━━━━━━━━━━━━━━━━━━━━━━━━━━\u001b[0m \u001b[32m131.1/131.1 kB\u001b[0m \u001b[31m7.7 MB/s\u001b[0m eta \u001b[36m0:00:00\u001b[0m\n",
      "\u001b[2K   \u001b[90m━━━━━━━━━━━━━━━━━━━━━━━━━━━━━━━━━━━━━━━━\u001b[0m \u001b[32m8.5/8.5 MB\u001b[0m \u001b[31m102.9 MB/s\u001b[0m eta \u001b[36m0:00:00\u001b[0m\n",
      "\u001b[2K   \u001b[90m━━━━━━━━━━━━━━━━━━━━━━━━━━━━━━━━━━━━━━━━\u001b[0m \u001b[32m3.6/3.6 MB\u001b[0m \u001b[31m59.4 MB/s\u001b[0m eta \u001b[36m0:00:00\u001b[0m\n",
      "\u001b[?25h\u001b[31mERROR: pip's dependency resolver does not currently take into account all the packages that are installed. This behaviour is the source of the following dependency conflicts.\n",
      "sentence-transformers 3.2.1 requires transformers<5.0.0,>=4.41.0, but you have transformers 4.38.1 which is incompatible.\u001b[0m\u001b[31m\n",
      "\u001b[0m"
     ]
    }
   ],
   "source": [
    "!pip3 install -q -U bitsandbytes==0.42.0\n",
    "!pip3 install -q -U peft==0.8.2\n",
    "!pip3 install -q -U trl==0.7.10\n",
    "!pip3 install -q -U accelerate==0.27.1\n",
    "!pip3 install -q -U datasets==2.17.0\n",
    "!pip3 install -q -U transformers==4.38.1\n",
    "\n",
    "import torch\n",
    "from transformers import AutoModelForCausalLM, AutoTokenizer, BitsAndBytesConfig\n",
    "from peft import LoraConfig, get_peft_model\n",
    "from datasets import load_dataset\n",
    "from transformers import Trainer, TrainingArguments"
   ]
  },
  {
   "cell_type": "code",
   "execution_count": 2,
   "metadata": {
    "id": "00C1KpgA5EvZ"
   },
   "outputs": [],
   "source": [
    "# 필요한 라이브러리 임포트\n",
    "from google.colab import drive\n",
    "import pandas as pd\n",
    "import numpy as np\n",
    "import re\n",
    "import torch\n",
    "from sklearn.model_selection import train_test_split\n",
    "from sklearn.preprocessing import MultiLabelBinarizer\n",
    "from sklearn.feature_extraction.text import TfidfVectorizer\n",
    "from transformers import (\n",
    "    AutoTokenizer,\n",
    "    AutoModelForSequenceClassification,\n",
    "    Trainer,\n",
    "    TrainingArguments,\n",
    "    DataCollatorWithPadding,\n",
    "    AdamW,\n",
    "    get_linear_schedule_with_warmup,\n",
    "    EarlyStoppingCallback,\n",
    "    AutoModelForCausalLM,\n",
    "    BitsAndBytesConfig,\n",
    "    DataCollatorForSeq2Seq\n",
    ")\n",
    "from datasets import Dataset\n",
    "from sklearn.metrics import accuracy_score, f1_score, precision_score, recall_score\n",
    "import random\n",
    "from sklearn.metrics.pairwise import cosine_similarity\n",
    "from google.colab import files\n",
    "from huggingface_hub import notebook_login\n",
    "from peft import prepare_model_for_kbit_training\n",
    "from transformers import pipeline\n",
    "import random\n",
    "from google.colab import files"
   ]
  },
  {
   "cell_type": "code",
   "execution_count": 3,
   "metadata": {
    "id": "BroZA0ZK9NXk"
   },
   "outputs": [],
   "source": [
    "random.seed(42)"
   ]
  },
  {
   "cell_type": "markdown",
   "metadata": {
    "id": "ZWVBRp1L-u8F"
   },
   "source": [
    "# 2. 데이터 전처리"
   ]
  },
  {
   "cell_type": "code",
   "execution_count": 4,
   "metadata": {
    "colab": {
     "base_uri": "https://localhost:8080/"
    },
    "id": "XVkwAWKJ5g1p",
    "outputId": "aa892dbb-78a6-482b-e726-8cc26c0eaecb"
   },
   "outputs": [
    {
     "name": "stdout",
     "output_type": "stream",
     "text": [
      "Mounted at /content/drive\n"
     ]
    }
   ],
   "source": [
    "drive.mount('/content/drive')"
   ]
  },
  {
   "cell_type": "code",
   "execution_count": 5,
   "metadata": {
    "id": "2K9w5TDCi4Jx"
   },
   "outputs": [],
   "source": [
    "file_path = '/content/drive/MyDrive/generativeai/games.csv'"
   ]
  },
  {
   "cell_type": "code",
   "execution_count": 6,
   "metadata": {
    "id": "Wv2kqGVl5h-z"
   },
   "outputs": [],
   "source": [
    "df = pd.read_csv(file_path, usecols=[\"Title\", \"Rating\", \"Genres\", \"Summary\", \"Reviews\"])"
   ]
  },
  {
   "cell_type": "code",
   "execution_count": 7,
   "metadata": {
    "colab": {
     "base_uri": "https://localhost:8080/",
     "height": 226
    },
    "id": "o2X3L5UB8DCC",
    "outputId": "915dd062-4538-4a89-fca8-4f1cb01466df"
   },
   "outputs": [
    {
     "data": {
      "application/vnd.google.colaboratory.intrinsic+json": {
       "summary": "{\n  \"name\": \"df\",\n  \"rows\": 1512,\n  \"fields\": [\n    {\n      \"column\": \"Title\",\n      \"properties\": {\n        \"dtype\": \"string\",\n        \"num_unique_values\": 1099,\n        \"samples\": [\n          \"Metal Gear Solid\",\n          \"Jazzpunk\",\n          \"River City Girls\"\n        ],\n        \"semantic_type\": \"\",\n        \"description\": \"\"\n      }\n    },\n    {\n      \"column\": \"Rating\",\n      \"properties\": {\n        \"dtype\": \"number\",\n        \"std\": 0.5326076110614811,\n        \"min\": 0.7,\n        \"max\": 4.8,\n        \"num_unique_values\": 35,\n        \"samples\": [\n          1.2,\n          2.7,\n          2.4\n        ],\n        \"semantic_type\": \"\",\n        \"description\": \"\"\n      }\n    },\n    {\n      \"column\": \"Genres\",\n      \"properties\": {\n        \"dtype\": \"category\",\n        \"num_unique_values\": 255,\n        \"samples\": [\n          \"['Adventure', 'Real Time Strategy', 'RPG', 'Simulator', 'Strategy']\",\n          \"['Indie', 'Strategy']\",\n          \"['Adventure', 'RPG', 'Strategy']\"\n        ],\n        \"semantic_type\": \"\",\n        \"description\": \"\"\n      }\n    },\n    {\n      \"column\": \"Summary\",\n      \"properties\": {\n        \"dtype\": \"string\",\n        \"num_unique_values\": 1112,\n        \"samples\": [\n          \"Isaac Clarke returns, joined by merciless soldier John Carver, to chase a risky plan that promises to finally stop the Necromorphs. Together Clarke and Carver must explore the frozen planet of Tau Volantis and track down the secret they hope will end the Necromorph plague forever, all while overcoming avalanches, treacherous ice-climbs, and the violent wilderness. Facing deadlier evolved enemies and brutal elements, the unlikely pair must work together to save mankind from the impending apocalypse.\\n             \\n\\n              Fighting alongside a co-op partner changes the way you play the game. While playing the co-op version of Dead Space 3\\u2019s campaign, you will uncover additional story elements, cut-scenes, and battle strategies that are exclusive to this mode. Play how you want - immerse yourself in the classic single-player campaign with Isaac Clarke, then discover how the story evolves when a co-op partner is present in your campaign.\\n             \\n\\n              Team up with a partner as Isaac Clarke or John Carver and take down the terror together. Facing deadlier evolved enemies and the brutal elements, the unlikely pair will work together to build weapons, overcome the harsh environment, and save mankind from the impending apocalypse.\\n             \\n\\n              Create your weapon piece by piece.\\n             \\n\\n              With thousands of possible combinations you can create the perfect weapon to take down the Necromorph plague. Using a multitude of parts, build the ultimate tool and the very best will be featured in Dead Space 3. Craft and share as many different weapon variations as you want.\",\n          \"Occasionally strange but completely addictive, Nintendo's Animal Crossing for the GameCube is not so much a game as a simulation of life on a small town. Players begin the game by setting out to live life on their own in a colorful town, where they are greeted by a seemingly endless supply of things to do and characters to meet.\\n             \\n\\n              Time passes in Animal Crossing in real-time, as the month, day, season, and time of day matches that of the player's. Holiday seasons come and go in Animal Crossing, just as they would in the real world. Experience the freedom to fish, decorate your house, go bug catching, garden, write letters, and even play original Nintendo NES games in this imaginative, and addictive game.\",\n          \"Devil May Cry 5 is a brand-new entry in the legendary over-the-top action series Devil May Cry. The game features three playable characters, each with a radically different stylish combat play style as they take on the city overrun with demons. Developed with Capcom\\u2019s in-house proprietary RE engine, the series continues to achieve new heights in fidelity with graphics that utilize photorealistic character designs and stunning lighting and environmental effects.\"\n        ],\n        \"semantic_type\": \"\",\n        \"description\": \"\"\n      }\n    },\n    {\n      \"column\": \"Reviews\",\n      \"properties\": {\n        \"dtype\": \"string\",\n        \"num_unique_values\": 1117,\n        \"samples\": [\n          \"['wow this is the best game ever I fucking ascended hello God', \\\"I have no idea what I just experienced but what a beautiful experience. Not a fan of Area X tho, shit makes me nauseous. Does not take away from how good the main game is though. I wanna platinum this one eventually. Also, the first PSVR2 game I've beaten! First of many.\\\", \\\"I've played many iterations of this but the PSVR2 is jaw-dropping and the best iteration. Eye-tracking and general fluidity is unparalleled.\\\", 'Amazing.', 'Rez Infinite \\u00e9 a s\\u00edntese de uma obra de arte fleum\\u00e1tica que ascende ao perpassar do tempo, e no fenecimento encontra a transcend\\u00eancia de seu jaez, sua estrutura \\u00e9 frugal, mas sua vis\\u00e3o \\u00e9 inc\\u00f3lume e sine qua non a agrura de sua jornada, apesar de perene no remate se esteia.', '\\\"Ages ago, life was born in the primitive sea.\\\"']\",\n          \"['i wish british people were real', 'That\\u2019s Dunban over there', 'bad remaster', 'If the end wasnt such a no sense game would be 10/10', 'It really feels as though they struck gold when they first began creating this game. While the story is very simple almost shounen manga/anime levels of simple the presentation is absolutely perfect. The gameplay is very simple especially compared to later entries in the series (which is to be expected) and a lot of the side content is flat out terrible xenoblade 1 feels like a chance taken at experimenting that went extremely well', 'they forgot how to write women for this one']\",\n          \"['The only Life Is Strange game to really capture the \\\"strange\\\" part (character writing that feels like it was AI generated)', \\\"Decent story driven game, pretty good story. The woke factor is high, but doesn't get too crazy and the characters are still pretty well written. Just not as emotional or as powerful as the first LIS for me.\\\", 'No nonsense honest review: The good, The bad and the dumb', \\\"Yeah... yeah, it's definitely strange.\\\", 'EU N\\u00c3O ESPERAVA QUE FOSSE SER T\\u00c3O EMOCIONANTE, ISSO AQUI \\u00c9 LINDO DEMAIS N\\u00c3O TENHO NEM PALAVRAS PRA DESCREVER.', 'EPISODE 3 PEAKED EPISODE 4 WAS A SHAMBLES']\"\n        ],\n        \"semantic_type\": \"\",\n        \"description\": \"\"\n      }\n    }\n  ]\n}",
       "type": "dataframe",
       "variable_name": "df"
      },
      "text/html": [
       "\n",
       "  <div id=\"df-2055207b-52c1-4af7-bc4d-2ed912a075ca\" class=\"colab-df-container\">\n",
       "    <div>\n",
       "<style scoped>\n",
       "    .dataframe tbody tr th:only-of-type {\n",
       "        vertical-align: middle;\n",
       "    }\n",
       "\n",
       "    .dataframe tbody tr th {\n",
       "        vertical-align: top;\n",
       "    }\n",
       "\n",
       "    .dataframe thead th {\n",
       "        text-align: right;\n",
       "    }\n",
       "</style>\n",
       "<table border=\"1\" class=\"dataframe\">\n",
       "  <thead>\n",
       "    <tr style=\"text-align: right;\">\n",
       "      <th></th>\n",
       "      <th>Title</th>\n",
       "      <th>Rating</th>\n",
       "      <th>Genres</th>\n",
       "      <th>Summary</th>\n",
       "      <th>Reviews</th>\n",
       "    </tr>\n",
       "  </thead>\n",
       "  <tbody>\n",
       "    <tr>\n",
       "      <th>0</th>\n",
       "      <td>Elden Ring</td>\n",
       "      <td>4.5</td>\n",
       "      <td>['Adventure', 'RPG']</td>\n",
       "      <td>Elden Ring is a fantasy, action and open world...</td>\n",
       "      <td>[\"The first playthrough of elden ring is one o...</td>\n",
       "    </tr>\n",
       "    <tr>\n",
       "      <th>1</th>\n",
       "      <td>Hades</td>\n",
       "      <td>4.3</td>\n",
       "      <td>['Adventure', 'Brawler', 'Indie', 'RPG']</td>\n",
       "      <td>A rogue-lite hack and slash dungeon crawler in...</td>\n",
       "      <td>['convinced this is a roguelike for people who...</td>\n",
       "    </tr>\n",
       "    <tr>\n",
       "      <th>2</th>\n",
       "      <td>The Legend of Zelda: Breath of the Wild</td>\n",
       "      <td>4.4</td>\n",
       "      <td>['Adventure', 'RPG']</td>\n",
       "      <td>The Legend of Zelda: Breath of the Wild is the...</td>\n",
       "      <td>['This game is the game (that is not CS:GO) th...</td>\n",
       "    </tr>\n",
       "    <tr>\n",
       "      <th>3</th>\n",
       "      <td>Undertale</td>\n",
       "      <td>4.2</td>\n",
       "      <td>['Adventure', 'Indie', 'RPG', 'Turn Based Stra...</td>\n",
       "      <td>A small child falls into the Underground, wher...</td>\n",
       "      <td>['soundtrack is tied for #1 with nier automata...</td>\n",
       "    </tr>\n",
       "    <tr>\n",
       "      <th>4</th>\n",
       "      <td>Hollow Knight</td>\n",
       "      <td>4.4</td>\n",
       "      <td>['Adventure', 'Indie', 'Platform']</td>\n",
       "      <td>A 2D metroidvania with an emphasis on close co...</td>\n",
       "      <td>[\"this games worldbuilding is incredible, with...</td>\n",
       "    </tr>\n",
       "  </tbody>\n",
       "</table>\n",
       "</div>\n",
       "    <div class=\"colab-df-buttons\">\n",
       "\n",
       "  <div class=\"colab-df-container\">\n",
       "    <button class=\"colab-df-convert\" onclick=\"convertToInteractive('df-2055207b-52c1-4af7-bc4d-2ed912a075ca')\"\n",
       "            title=\"Convert this dataframe to an interactive table.\"\n",
       "            style=\"display:none;\">\n",
       "\n",
       "  <svg xmlns=\"http://www.w3.org/2000/svg\" height=\"24px\" viewBox=\"0 -960 960 960\">\n",
       "    <path d=\"M120-120v-720h720v720H120Zm60-500h600v-160H180v160Zm220 220h160v-160H400v160Zm0 220h160v-160H400v160ZM180-400h160v-160H180v160Zm440 0h160v-160H620v160ZM180-180h160v-160H180v160Zm440 0h160v-160H620v160Z\"/>\n",
       "  </svg>\n",
       "    </button>\n",
       "\n",
       "  <style>\n",
       "    .colab-df-container {\n",
       "      display:flex;\n",
       "      gap: 12px;\n",
       "    }\n",
       "\n",
       "    .colab-df-convert {\n",
       "      background-color: #E8F0FE;\n",
       "      border: none;\n",
       "      border-radius: 50%;\n",
       "      cursor: pointer;\n",
       "      display: none;\n",
       "      fill: #1967D2;\n",
       "      height: 32px;\n",
       "      padding: 0 0 0 0;\n",
       "      width: 32px;\n",
       "    }\n",
       "\n",
       "    .colab-df-convert:hover {\n",
       "      background-color: #E2EBFA;\n",
       "      box-shadow: 0px 1px 2px rgba(60, 64, 67, 0.3), 0px 1px 3px 1px rgba(60, 64, 67, 0.15);\n",
       "      fill: #174EA6;\n",
       "    }\n",
       "\n",
       "    .colab-df-buttons div {\n",
       "      margin-bottom: 4px;\n",
       "    }\n",
       "\n",
       "    [theme=dark] .colab-df-convert {\n",
       "      background-color: #3B4455;\n",
       "      fill: #D2E3FC;\n",
       "    }\n",
       "\n",
       "    [theme=dark] .colab-df-convert:hover {\n",
       "      background-color: #434B5C;\n",
       "      box-shadow: 0px 1px 3px 1px rgba(0, 0, 0, 0.15);\n",
       "      filter: drop-shadow(0px 1px 2px rgba(0, 0, 0, 0.3));\n",
       "      fill: #FFFFFF;\n",
       "    }\n",
       "  </style>\n",
       "\n",
       "    <script>\n",
       "      const buttonEl =\n",
       "        document.querySelector('#df-2055207b-52c1-4af7-bc4d-2ed912a075ca button.colab-df-convert');\n",
       "      buttonEl.style.display =\n",
       "        google.colab.kernel.accessAllowed ? 'block' : 'none';\n",
       "\n",
       "      async function convertToInteractive(key) {\n",
       "        const element = document.querySelector('#df-2055207b-52c1-4af7-bc4d-2ed912a075ca');\n",
       "        const dataTable =\n",
       "          await google.colab.kernel.invokeFunction('convertToInteractive',\n",
       "                                                    [key], {});\n",
       "        if (!dataTable) return;\n",
       "\n",
       "        const docLinkHtml = 'Like what you see? Visit the ' +\n",
       "          '<a target=\"_blank\" href=https://colab.research.google.com/notebooks/data_table.ipynb>data table notebook</a>'\n",
       "          + ' to learn more about interactive tables.';\n",
       "        element.innerHTML = '';\n",
       "        dataTable['output_type'] = 'display_data';\n",
       "        await google.colab.output.renderOutput(dataTable, element);\n",
       "        const docLink = document.createElement('div');\n",
       "        docLink.innerHTML = docLinkHtml;\n",
       "        element.appendChild(docLink);\n",
       "      }\n",
       "    </script>\n",
       "  </div>\n",
       "\n",
       "\n",
       "<div id=\"df-8c0f1227-93bd-48ae-9855-24a7e4fc6c7f\">\n",
       "  <button class=\"colab-df-quickchart\" onclick=\"quickchart('df-8c0f1227-93bd-48ae-9855-24a7e4fc6c7f')\"\n",
       "            title=\"Suggest charts\"\n",
       "            style=\"display:none;\">\n",
       "\n",
       "<svg xmlns=\"http://www.w3.org/2000/svg\" height=\"24px\"viewBox=\"0 0 24 24\"\n",
       "     width=\"24px\">\n",
       "    <g>\n",
       "        <path d=\"M19 3H5c-1.1 0-2 .9-2 2v14c0 1.1.9 2 2 2h14c1.1 0 2-.9 2-2V5c0-1.1-.9-2-2-2zM9 17H7v-7h2v7zm4 0h-2V7h2v10zm4 0h-2v-4h2v4z\"/>\n",
       "    </g>\n",
       "</svg>\n",
       "  </button>\n",
       "\n",
       "<style>\n",
       "  .colab-df-quickchart {\n",
       "      --bg-color: #E8F0FE;\n",
       "      --fill-color: #1967D2;\n",
       "      --hover-bg-color: #E2EBFA;\n",
       "      --hover-fill-color: #174EA6;\n",
       "      --disabled-fill-color: #AAA;\n",
       "      --disabled-bg-color: #DDD;\n",
       "  }\n",
       "\n",
       "  [theme=dark] .colab-df-quickchart {\n",
       "      --bg-color: #3B4455;\n",
       "      --fill-color: #D2E3FC;\n",
       "      --hover-bg-color: #434B5C;\n",
       "      --hover-fill-color: #FFFFFF;\n",
       "      --disabled-bg-color: #3B4455;\n",
       "      --disabled-fill-color: #666;\n",
       "  }\n",
       "\n",
       "  .colab-df-quickchart {\n",
       "    background-color: var(--bg-color);\n",
       "    border: none;\n",
       "    border-radius: 50%;\n",
       "    cursor: pointer;\n",
       "    display: none;\n",
       "    fill: var(--fill-color);\n",
       "    height: 32px;\n",
       "    padding: 0;\n",
       "    width: 32px;\n",
       "  }\n",
       "\n",
       "  .colab-df-quickchart:hover {\n",
       "    background-color: var(--hover-bg-color);\n",
       "    box-shadow: 0 1px 2px rgba(60, 64, 67, 0.3), 0 1px 3px 1px rgba(60, 64, 67, 0.15);\n",
       "    fill: var(--button-hover-fill-color);\n",
       "  }\n",
       "\n",
       "  .colab-df-quickchart-complete:disabled,\n",
       "  .colab-df-quickchart-complete:disabled:hover {\n",
       "    background-color: var(--disabled-bg-color);\n",
       "    fill: var(--disabled-fill-color);\n",
       "    box-shadow: none;\n",
       "  }\n",
       "\n",
       "  .colab-df-spinner {\n",
       "    border: 2px solid var(--fill-color);\n",
       "    border-color: transparent;\n",
       "    border-bottom-color: var(--fill-color);\n",
       "    animation:\n",
       "      spin 1s steps(1) infinite;\n",
       "  }\n",
       "\n",
       "  @keyframes spin {\n",
       "    0% {\n",
       "      border-color: transparent;\n",
       "      border-bottom-color: var(--fill-color);\n",
       "      border-left-color: var(--fill-color);\n",
       "    }\n",
       "    20% {\n",
       "      border-color: transparent;\n",
       "      border-left-color: var(--fill-color);\n",
       "      border-top-color: var(--fill-color);\n",
       "    }\n",
       "    30% {\n",
       "      border-color: transparent;\n",
       "      border-left-color: var(--fill-color);\n",
       "      border-top-color: var(--fill-color);\n",
       "      border-right-color: var(--fill-color);\n",
       "    }\n",
       "    40% {\n",
       "      border-color: transparent;\n",
       "      border-right-color: var(--fill-color);\n",
       "      border-top-color: var(--fill-color);\n",
       "    }\n",
       "    60% {\n",
       "      border-color: transparent;\n",
       "      border-right-color: var(--fill-color);\n",
       "    }\n",
       "    80% {\n",
       "      border-color: transparent;\n",
       "      border-right-color: var(--fill-color);\n",
       "      border-bottom-color: var(--fill-color);\n",
       "    }\n",
       "    90% {\n",
       "      border-color: transparent;\n",
       "      border-bottom-color: var(--fill-color);\n",
       "    }\n",
       "  }\n",
       "</style>\n",
       "\n",
       "  <script>\n",
       "    async function quickchart(key) {\n",
       "      const quickchartButtonEl =\n",
       "        document.querySelector('#' + key + ' button');\n",
       "      quickchartButtonEl.disabled = true;  // To prevent multiple clicks.\n",
       "      quickchartButtonEl.classList.add('colab-df-spinner');\n",
       "      try {\n",
       "        const charts = await google.colab.kernel.invokeFunction(\n",
       "            'suggestCharts', [key], {});\n",
       "      } catch (error) {\n",
       "        console.error('Error during call to suggestCharts:', error);\n",
       "      }\n",
       "      quickchartButtonEl.classList.remove('colab-df-spinner');\n",
       "      quickchartButtonEl.classList.add('colab-df-quickchart-complete');\n",
       "    }\n",
       "    (() => {\n",
       "      let quickchartButtonEl =\n",
       "        document.querySelector('#df-8c0f1227-93bd-48ae-9855-24a7e4fc6c7f button');\n",
       "      quickchartButtonEl.style.display =\n",
       "        google.colab.kernel.accessAllowed ? 'block' : 'none';\n",
       "    })();\n",
       "  </script>\n",
       "</div>\n",
       "\n",
       "    </div>\n",
       "  </div>\n"
      ],
      "text/plain": [
       "                                     Title  Rating  \\\n",
       "0                               Elden Ring     4.5   \n",
       "1                                    Hades     4.3   \n",
       "2  The Legend of Zelda: Breath of the Wild     4.4   \n",
       "3                                Undertale     4.2   \n",
       "4                            Hollow Knight     4.4   \n",
       "\n",
       "                                              Genres  \\\n",
       "0                               ['Adventure', 'RPG']   \n",
       "1           ['Adventure', 'Brawler', 'Indie', 'RPG']   \n",
       "2                               ['Adventure', 'RPG']   \n",
       "3  ['Adventure', 'Indie', 'RPG', 'Turn Based Stra...   \n",
       "4                 ['Adventure', 'Indie', 'Platform']   \n",
       "\n",
       "                                             Summary  \\\n",
       "0  Elden Ring is a fantasy, action and open world...   \n",
       "1  A rogue-lite hack and slash dungeon crawler in...   \n",
       "2  The Legend of Zelda: Breath of the Wild is the...   \n",
       "3  A small child falls into the Underground, wher...   \n",
       "4  A 2D metroidvania with an emphasis on close co...   \n",
       "\n",
       "                                             Reviews  \n",
       "0  [\"The first playthrough of elden ring is one o...  \n",
       "1  ['convinced this is a roguelike for people who...  \n",
       "2  ['This game is the game (that is not CS:GO) th...  \n",
       "3  ['soundtrack is tied for #1 with nier automata...  \n",
       "4  [\"this games worldbuilding is incredible, with...  "
      ]
     },
     "execution_count": 7,
     "metadata": {},
     "output_type": "execute_result"
    }
   ],
   "source": [
    "df.head()"
   ]
  },
  {
   "cell_type": "code",
   "execution_count": 8,
   "metadata": {
    "colab": {
     "base_uri": "https://localhost:8080/",
     "height": 444
    },
    "id": "g__YfZDAWfZm",
    "outputId": "49d65b0a-d6a6-4c71-d2a9-346428b16378"
   },
   "outputs": [
    {
     "data": {
      "application/vnd.google.colaboratory.intrinsic+json": {
       "summary": "{\n  \"name\": \"df\",\n  \"rows\": 1099,\n  \"fields\": [\n    {\n      \"column\": \"Title\",\n      \"properties\": {\n        \"dtype\": \"string\",\n        \"num_unique_values\": 1099,\n        \"samples\": [\n          \"Metal Gear Solid\",\n          \"Jazzpunk\",\n          \"River City Girls\"\n        ],\n        \"semantic_type\": \"\",\n        \"description\": \"\"\n      }\n    },\n    {\n      \"column\": \"Rating\",\n      \"properties\": {\n        \"dtype\": \"number\",\n        \"std\": 0.539697004705654,\n        \"min\": 0.7,\n        \"max\": 4.8,\n        \"num_unique_values\": 35,\n        \"samples\": [\n          1.2,\n          2.7,\n          2.4\n        ],\n        \"semantic_type\": \"\",\n        \"description\": \"\"\n      }\n    },\n    {\n      \"column\": \"Genres\",\n      \"properties\": {\n        \"dtype\": \"category\",\n        \"num_unique_values\": 254,\n        \"samples\": [\n          \"['Adventure', 'Platform', 'Sport']\",\n          \"['Indie', 'Strategy']\",\n          \"['Indie', 'Point-and-Click', 'Simulator']\"\n        ],\n        \"semantic_type\": \"\",\n        \"description\": \"\"\n      }\n    },\n    {\n      \"column\": \"Summary\",\n      \"properties\": {\n        \"dtype\": \"string\",\n        \"num_unique_values\": 1094,\n        \"samples\": [\n          \"Embark on an epic adventure full of whimsy, wonder, and high-powered weaponry! Bullets, magic, and broadswords collide across this chaotic fantasy world brought to life by the unpredictable Tiny Tina.\",\n          \"Discover the Smell of the Game with Guilty Gear: Strive! Immerse yourself in new gameplay mechanics designed to be simple and welcoming for fighting game newcomers, yet deep and creative for veterans. Ride the Fire into a heavy metal inspired alternate future full of over-the-top action, style and fun!\",\n          \"Originally intended to be the fourth installment in the Resident Evil series, Devil May Cry is an action-adventure game that introduced a host of new elements to the gaming community. Chief among them is the Stylish Rank, which grades the player's performance in combat. The game is split into Missions, which are individually scored according to various factors, such as Orbs gathered and damage taken. Additionally, Devil May Cry did away with the pre-rendered backgrounds of prior Resident Evil games in order to allow for a dynamic camera system.\"\n        ],\n        \"semantic_type\": \"\",\n        \"description\": \"\"\n      }\n    },\n    {\n      \"column\": \"Reviews\",\n      \"properties\": {\n        \"dtype\": \"string\",\n        \"num_unique_values\": 1088,\n        \"samples\": [\n          \"[\\\"i met cap'n cook on here\\\", 'Very fun game USUALLY.\\\\n                     \\\\n                     Building up huge piles of loot and adventuring in this game is some of the best gaming experiences ive had, but it feels like to properly enjoy the game you have to be good enough at the PVP aspect (im not). Honestly I only play it in phases but its still really fun each time.', 'good game, im just really bad at it, unless your not a skill issue, you will get destoyed', 'Eu AMO esse jogo', 'Querendo ou n\\u00e3o \\u00e9 um jogo bem repetitivo, mas \\u00e9 de longe uma das melhores experi\\u00eancias coop em mem\\u00f3ria recente', 'A perfect game for those long Covid nights where you and the lads would just be pirates for 6 hours at a time, on grand adventures and making new stories. I wish there was a bit more to this game at times, and I could never play alone for long, but it is still wonderful and I love my Banjo Kazooie ship.']\",\n          \"['Goated', 'Combos go brr', \\\"Matar dem\\u00f4nios com estilo :'), muito bom.\\\", 'O MELHOR JOGO DE TODOS OS TEMPOS?????', 'YOU CANNOT KILL ME\\\\n                     \\\\n                     I AM OMEGA', \\\"Greatest Hack n' slash experience of all time, IMO.\\\"]\",\n          \"[\\\"I already love Banjo-Kazooie. It's not really nostalgia, maybe a bit, but I do think it's pretty fun the whole way through, with some clear flaws. Tooie fixes every problem the first has, and expands on it in so many ways it's kind of hard to believe.\\\", 'Watching paint dry over here. I thought Banjo 1 was tedious, but this stretches the world out to double the length and forces a bunch of transformations that make you walk across it 3-4 times more than the original game. I didnt grow up playing this one so its automatically worse than banjo 1.', 'While Ill always think the N64 was home to some of the worst gamefeel ever made, its hard to deny it had a really unique design culture. Banjo Tooie has a bunch of fun ideas but fuck the Minjos, Im glad the mole guy died.', 'A great sequel to an amazing game, keeping things fresh while also staying true to the original', 'One of my favorite games of all time.\\\\n                     \\\\n                     Banjo Tooie is a 3D platformer collect-a-thon. A lot of its charm comes from the humorous dialogue between characters. It\\u2019s packed with quite a bit of dark humor and situational comicalities throughout each of the 9 worlds.\\\\n                     \\\\n                     The worlds are vast and eclectic, meaning you\\u2019re left with very little to be desired and a lot to explore.\\\\n                     \\\\n                     Being a sequel to Banjo Kazooie, Tooie has a lot to live up to and it did not disappoint. I didn\\u2019t really want to compare the two, but oh well, everyone else is \\ud83e\\udd37\\ud83c\\udffb\\\\u200d\\u2642\\ufe0f.\\\\n                     \\\\n                     One key difference is that in Kazooie, each session in a world is somewhat discontinuous. What this means is you can collect 99 music notes in a world, leave and come back, and you\\u2019ll have to start back at 0. Whereas in Tooie, everything you collect is permanent and you don\\u2019t need to worry about losing progress.\\\\n                     \\\\n                     Tooie is a lot more legato when it comes to how the worlds are interconnected and honestly that was something I really loved when playing it.\\\\n                     \\\\n                     Oh, the camera is much better in Tooie too.\\\\n                     \\\\n                     A common complaint I see is that there\\u2019s an overwhelming amount of content and people that played Tooie after Kazooie thought that took away from the experience. I actually played Tooie first and felt that Kazooie was lacking.\\\\n                     \\\\n                     One significant aspect of games that greatly affects the flow of a game is the feeling of progression. This is something I think Banjo Tooie does extremely well. There are consistently new unlockables whether it\\u2019s new combat moves, mobility utilities, worlds, secret paths, etc, there\\u2019s always something new. However, because there\\u2019s so much, there is a LOT of backtracking, especially if you want to collect everything. For me this was a good thing, but I know it\\u2019s not for everyone.\\\\n                     \\\\n                     There are many places in each world where you can get stuck due to not having unlocked something elsewhere or just not being able to figure out a puzzle. As a child, this was a fun challenge. I cannot tell what it would be like playing for the first time as an adult.\\\\n                     \\\\n                     I\\u2019d be lying if I said nostalgia didn\\u2019t have something to do with how I feel about this game. But I assure you, both playing (and 100%ing) as a kid as well as in my 20\\u2019s I gave this a solid 10/10.\\\\n                     \\\\n                     There\\u2019s also a multiplayer mode which are all the mini games banjo and kazooie come across in the campaign. I had 3 siblings so we had a ton of fun playing these, but I imagine not many of us play couch multiplayer anymore so this is more of a side note bonus thing.', 'Saudades de quando jogos pra crian\\u00e7as come\\u00e7avam com uma partida de p\\u00f4quer e um dos personagens casualmente morrendo.']\"\n        ],\n        \"semantic_type\": \"\",\n        \"description\": \"\"\n      }\n    }\n  ]\n}",
       "type": "dataframe"
      },
      "text/html": [
       "\n",
       "  <div id=\"df-b748c6e1-1e6e-43e5-b712-3a270d61c2dc\" class=\"colab-df-container\">\n",
       "    <div>\n",
       "<style scoped>\n",
       "    .dataframe tbody tr th:only-of-type {\n",
       "        vertical-align: middle;\n",
       "    }\n",
       "\n",
       "    .dataframe tbody tr th {\n",
       "        vertical-align: top;\n",
       "    }\n",
       "\n",
       "    .dataframe thead th {\n",
       "        text-align: right;\n",
       "    }\n",
       "</style>\n",
       "<table border=\"1\" class=\"dataframe\">\n",
       "  <thead>\n",
       "    <tr style=\"text-align: right;\">\n",
       "      <th></th>\n",
       "      <th>Title</th>\n",
       "      <th>Rating</th>\n",
       "      <th>Genres</th>\n",
       "      <th>Summary</th>\n",
       "      <th>Reviews</th>\n",
       "    </tr>\n",
       "  </thead>\n",
       "  <tbody>\n",
       "    <tr>\n",
       "      <th>0</th>\n",
       "      <td>Elden Ring</td>\n",
       "      <td>4.5</td>\n",
       "      <td>['Adventure', 'RPG']</td>\n",
       "      <td>Elden Ring is a fantasy, action and open world...</td>\n",
       "      <td>[\"The first playthrough of elden ring is one o...</td>\n",
       "    </tr>\n",
       "    <tr>\n",
       "      <th>1</th>\n",
       "      <td>Hades</td>\n",
       "      <td>4.3</td>\n",
       "      <td>['Adventure', 'Brawler', 'Indie', 'RPG']</td>\n",
       "      <td>A rogue-lite hack and slash dungeon crawler in...</td>\n",
       "      <td>['convinced this is a roguelike for people who...</td>\n",
       "    </tr>\n",
       "    <tr>\n",
       "      <th>2</th>\n",
       "      <td>The Legend of Zelda: Breath of the Wild</td>\n",
       "      <td>4.4</td>\n",
       "      <td>['Adventure', 'RPG']</td>\n",
       "      <td>The Legend of Zelda: Breath of the Wild is the...</td>\n",
       "      <td>['This game is the game (that is not CS:GO) th...</td>\n",
       "    </tr>\n",
       "    <tr>\n",
       "      <th>3</th>\n",
       "      <td>Undertale</td>\n",
       "      <td>4.2</td>\n",
       "      <td>['Adventure', 'Indie', 'RPG', 'Turn Based Stra...</td>\n",
       "      <td>A small child falls into the Underground, wher...</td>\n",
       "      <td>['soundtrack is tied for #1 with nier automata...</td>\n",
       "    </tr>\n",
       "    <tr>\n",
       "      <th>4</th>\n",
       "      <td>Hollow Knight</td>\n",
       "      <td>4.4</td>\n",
       "      <td>['Adventure', 'Indie', 'Platform']</td>\n",
       "      <td>A 2D metroidvania with an emphasis on close co...</td>\n",
       "      <td>[\"this games worldbuilding is incredible, with...</td>\n",
       "    </tr>\n",
       "    <tr>\n",
       "      <th>...</th>\n",
       "      <td>...</td>\n",
       "      <td>...</td>\n",
       "      <td>...</td>\n",
       "      <td>...</td>\n",
       "      <td>...</td>\n",
       "    </tr>\n",
       "    <tr>\n",
       "      <th>1507</th>\n",
       "      <td>Back to the Future: The Game</td>\n",
       "      <td>3.2</td>\n",
       "      <td>['Adventure', 'Point-and-Click']</td>\n",
       "      <td>Back to the Future: The Game is one of Telltal...</td>\n",
       "      <td>['Very enjoyable game. The story adds onto the...</td>\n",
       "    </tr>\n",
       "    <tr>\n",
       "      <th>1508</th>\n",
       "      <td>Team Sonic Racing</td>\n",
       "      <td>2.9</td>\n",
       "      <td>['Arcade', 'Racing']</td>\n",
       "      <td>Team Sonic Racing combines the best elements o...</td>\n",
       "      <td>['jogo morto mas bom', 'not my cup of tea', \"C...</td>\n",
       "    </tr>\n",
       "    <tr>\n",
       "      <th>1509</th>\n",
       "      <td>Dragon's Dogma</td>\n",
       "      <td>3.7</td>\n",
       "      <td>['Brawler', 'RPG']</td>\n",
       "      <td>Set in a huge open world, Dragon’s Dogma: Dark...</td>\n",
       "      <td>['Underrated.', 'A grandes rasgos, es como un ...</td>\n",
       "    </tr>\n",
       "    <tr>\n",
       "      <th>1510</th>\n",
       "      <td>Baldur's Gate 3</td>\n",
       "      <td>4.1</td>\n",
       "      <td>['Adventure', 'RPG', 'Strategy', 'Tactical', '...</td>\n",
       "      <td>An ancient evil has returned to Baldur's Gate,...</td>\n",
       "      <td>['Bu türe bu oyunla girmeye çalışmak hataydı s...</td>\n",
       "    </tr>\n",
       "    <tr>\n",
       "      <th>1511</th>\n",
       "      <td>The LEGO Movie Videogame</td>\n",
       "      <td>2.8</td>\n",
       "      <td>['Adventure', 'Puzzle']</td>\n",
       "      <td>Join Emmet and an unlikely group of resistance...</td>\n",
       "      <td>['Legal', 'Pretty Average Lego Game But It Was...</td>\n",
       "    </tr>\n",
       "  </tbody>\n",
       "</table>\n",
       "<p>1099 rows × 5 columns</p>\n",
       "</div>\n",
       "    <div class=\"colab-df-buttons\">\n",
       "\n",
       "  <div class=\"colab-df-container\">\n",
       "    <button class=\"colab-df-convert\" onclick=\"convertToInteractive('df-b748c6e1-1e6e-43e5-b712-3a270d61c2dc')\"\n",
       "            title=\"Convert this dataframe to an interactive table.\"\n",
       "            style=\"display:none;\">\n",
       "\n",
       "  <svg xmlns=\"http://www.w3.org/2000/svg\" height=\"24px\" viewBox=\"0 -960 960 960\">\n",
       "    <path d=\"M120-120v-720h720v720H120Zm60-500h600v-160H180v160Zm220 220h160v-160H400v160Zm0 220h160v-160H400v160ZM180-400h160v-160H180v160Zm440 0h160v-160H620v160ZM180-180h160v-160H180v160Zm440 0h160v-160H620v160Z\"/>\n",
       "  </svg>\n",
       "    </button>\n",
       "\n",
       "  <style>\n",
       "    .colab-df-container {\n",
       "      display:flex;\n",
       "      gap: 12px;\n",
       "    }\n",
       "\n",
       "    .colab-df-convert {\n",
       "      background-color: #E8F0FE;\n",
       "      border: none;\n",
       "      border-radius: 50%;\n",
       "      cursor: pointer;\n",
       "      display: none;\n",
       "      fill: #1967D2;\n",
       "      height: 32px;\n",
       "      padding: 0 0 0 0;\n",
       "      width: 32px;\n",
       "    }\n",
       "\n",
       "    .colab-df-convert:hover {\n",
       "      background-color: #E2EBFA;\n",
       "      box-shadow: 0px 1px 2px rgba(60, 64, 67, 0.3), 0px 1px 3px 1px rgba(60, 64, 67, 0.15);\n",
       "      fill: #174EA6;\n",
       "    }\n",
       "\n",
       "    .colab-df-buttons div {\n",
       "      margin-bottom: 4px;\n",
       "    }\n",
       "\n",
       "    [theme=dark] .colab-df-convert {\n",
       "      background-color: #3B4455;\n",
       "      fill: #D2E3FC;\n",
       "    }\n",
       "\n",
       "    [theme=dark] .colab-df-convert:hover {\n",
       "      background-color: #434B5C;\n",
       "      box-shadow: 0px 1px 3px 1px rgba(0, 0, 0, 0.15);\n",
       "      filter: drop-shadow(0px 1px 2px rgba(0, 0, 0, 0.3));\n",
       "      fill: #FFFFFF;\n",
       "    }\n",
       "  </style>\n",
       "\n",
       "    <script>\n",
       "      const buttonEl =\n",
       "        document.querySelector('#df-b748c6e1-1e6e-43e5-b712-3a270d61c2dc button.colab-df-convert');\n",
       "      buttonEl.style.display =\n",
       "        google.colab.kernel.accessAllowed ? 'block' : 'none';\n",
       "\n",
       "      async function convertToInteractive(key) {\n",
       "        const element = document.querySelector('#df-b748c6e1-1e6e-43e5-b712-3a270d61c2dc');\n",
       "        const dataTable =\n",
       "          await google.colab.kernel.invokeFunction('convertToInteractive',\n",
       "                                                    [key], {});\n",
       "        if (!dataTable) return;\n",
       "\n",
       "        const docLinkHtml = 'Like what you see? Visit the ' +\n",
       "          '<a target=\"_blank\" href=https://colab.research.google.com/notebooks/data_table.ipynb>data table notebook</a>'\n",
       "          + ' to learn more about interactive tables.';\n",
       "        element.innerHTML = '';\n",
       "        dataTable['output_type'] = 'display_data';\n",
       "        await google.colab.output.renderOutput(dataTable, element);\n",
       "        const docLink = document.createElement('div');\n",
       "        docLink.innerHTML = docLinkHtml;\n",
       "        element.appendChild(docLink);\n",
       "      }\n",
       "    </script>\n",
       "  </div>\n",
       "\n",
       "\n",
       "<div id=\"df-74652b40-b7a1-4bc4-a7e0-161c44b99942\">\n",
       "  <button class=\"colab-df-quickchart\" onclick=\"quickchart('df-74652b40-b7a1-4bc4-a7e0-161c44b99942')\"\n",
       "            title=\"Suggest charts\"\n",
       "            style=\"display:none;\">\n",
       "\n",
       "<svg xmlns=\"http://www.w3.org/2000/svg\" height=\"24px\"viewBox=\"0 0 24 24\"\n",
       "     width=\"24px\">\n",
       "    <g>\n",
       "        <path d=\"M19 3H5c-1.1 0-2 .9-2 2v14c0 1.1.9 2 2 2h14c1.1 0 2-.9 2-2V5c0-1.1-.9-2-2-2zM9 17H7v-7h2v7zm4 0h-2V7h2v10zm4 0h-2v-4h2v4z\"/>\n",
       "    </g>\n",
       "</svg>\n",
       "  </button>\n",
       "\n",
       "<style>\n",
       "  .colab-df-quickchart {\n",
       "      --bg-color: #E8F0FE;\n",
       "      --fill-color: #1967D2;\n",
       "      --hover-bg-color: #E2EBFA;\n",
       "      --hover-fill-color: #174EA6;\n",
       "      --disabled-fill-color: #AAA;\n",
       "      --disabled-bg-color: #DDD;\n",
       "  }\n",
       "\n",
       "  [theme=dark] .colab-df-quickchart {\n",
       "      --bg-color: #3B4455;\n",
       "      --fill-color: #D2E3FC;\n",
       "      --hover-bg-color: #434B5C;\n",
       "      --hover-fill-color: #FFFFFF;\n",
       "      --disabled-bg-color: #3B4455;\n",
       "      --disabled-fill-color: #666;\n",
       "  }\n",
       "\n",
       "  .colab-df-quickchart {\n",
       "    background-color: var(--bg-color);\n",
       "    border: none;\n",
       "    border-radius: 50%;\n",
       "    cursor: pointer;\n",
       "    display: none;\n",
       "    fill: var(--fill-color);\n",
       "    height: 32px;\n",
       "    padding: 0;\n",
       "    width: 32px;\n",
       "  }\n",
       "\n",
       "  .colab-df-quickchart:hover {\n",
       "    background-color: var(--hover-bg-color);\n",
       "    box-shadow: 0 1px 2px rgba(60, 64, 67, 0.3), 0 1px 3px 1px rgba(60, 64, 67, 0.15);\n",
       "    fill: var(--button-hover-fill-color);\n",
       "  }\n",
       "\n",
       "  .colab-df-quickchart-complete:disabled,\n",
       "  .colab-df-quickchart-complete:disabled:hover {\n",
       "    background-color: var(--disabled-bg-color);\n",
       "    fill: var(--disabled-fill-color);\n",
       "    box-shadow: none;\n",
       "  }\n",
       "\n",
       "  .colab-df-spinner {\n",
       "    border: 2px solid var(--fill-color);\n",
       "    border-color: transparent;\n",
       "    border-bottom-color: var(--fill-color);\n",
       "    animation:\n",
       "      spin 1s steps(1) infinite;\n",
       "  }\n",
       "\n",
       "  @keyframes spin {\n",
       "    0% {\n",
       "      border-color: transparent;\n",
       "      border-bottom-color: var(--fill-color);\n",
       "      border-left-color: var(--fill-color);\n",
       "    }\n",
       "    20% {\n",
       "      border-color: transparent;\n",
       "      border-left-color: var(--fill-color);\n",
       "      border-top-color: var(--fill-color);\n",
       "    }\n",
       "    30% {\n",
       "      border-color: transparent;\n",
       "      border-left-color: var(--fill-color);\n",
       "      border-top-color: var(--fill-color);\n",
       "      border-right-color: var(--fill-color);\n",
       "    }\n",
       "    40% {\n",
       "      border-color: transparent;\n",
       "      border-right-color: var(--fill-color);\n",
       "      border-top-color: var(--fill-color);\n",
       "    }\n",
       "    60% {\n",
       "      border-color: transparent;\n",
       "      border-right-color: var(--fill-color);\n",
       "    }\n",
       "    80% {\n",
       "      border-color: transparent;\n",
       "      border-right-color: var(--fill-color);\n",
       "      border-bottom-color: var(--fill-color);\n",
       "    }\n",
       "    90% {\n",
       "      border-color: transparent;\n",
       "      border-bottom-color: var(--fill-color);\n",
       "    }\n",
       "  }\n",
       "</style>\n",
       "\n",
       "  <script>\n",
       "    async function quickchart(key) {\n",
       "      const quickchartButtonEl =\n",
       "        document.querySelector('#' + key + ' button');\n",
       "      quickchartButtonEl.disabled = true;  // To prevent multiple clicks.\n",
       "      quickchartButtonEl.classList.add('colab-df-spinner');\n",
       "      try {\n",
       "        const charts = await google.colab.kernel.invokeFunction(\n",
       "            'suggestCharts', [key], {});\n",
       "      } catch (error) {\n",
       "        console.error('Error during call to suggestCharts:', error);\n",
       "      }\n",
       "      quickchartButtonEl.classList.remove('colab-df-spinner');\n",
       "      quickchartButtonEl.classList.add('colab-df-quickchart-complete');\n",
       "    }\n",
       "    (() => {\n",
       "      let quickchartButtonEl =\n",
       "        document.querySelector('#df-74652b40-b7a1-4bc4-a7e0-161c44b99942 button');\n",
       "      quickchartButtonEl.style.display =\n",
       "        google.colab.kernel.accessAllowed ? 'block' : 'none';\n",
       "    })();\n",
       "  </script>\n",
       "</div>\n",
       "\n",
       "    </div>\n",
       "  </div>\n"
      ],
      "text/plain": [
       "                                        Title  Rating  \\\n",
       "0                                  Elden Ring     4.5   \n",
       "1                                       Hades     4.3   \n",
       "2     The Legend of Zelda: Breath of the Wild     4.4   \n",
       "3                                   Undertale     4.2   \n",
       "4                               Hollow Knight     4.4   \n",
       "...                                       ...     ...   \n",
       "1507             Back to the Future: The Game     3.2   \n",
       "1508                        Team Sonic Racing     2.9   \n",
       "1509                           Dragon's Dogma     3.7   \n",
       "1510                          Baldur's Gate 3     4.1   \n",
       "1511                 The LEGO Movie Videogame     2.8   \n",
       "\n",
       "                                                 Genres  \\\n",
       "0                                  ['Adventure', 'RPG']   \n",
       "1              ['Adventure', 'Brawler', 'Indie', 'RPG']   \n",
       "2                                  ['Adventure', 'RPG']   \n",
       "3     ['Adventure', 'Indie', 'RPG', 'Turn Based Stra...   \n",
       "4                    ['Adventure', 'Indie', 'Platform']   \n",
       "...                                                 ...   \n",
       "1507                   ['Adventure', 'Point-and-Click']   \n",
       "1508                               ['Arcade', 'Racing']   \n",
       "1509                                 ['Brawler', 'RPG']   \n",
       "1510  ['Adventure', 'RPG', 'Strategy', 'Tactical', '...   \n",
       "1511                            ['Adventure', 'Puzzle']   \n",
       "\n",
       "                                                Summary  \\\n",
       "0     Elden Ring is a fantasy, action and open world...   \n",
       "1     A rogue-lite hack and slash dungeon crawler in...   \n",
       "2     The Legend of Zelda: Breath of the Wild is the...   \n",
       "3     A small child falls into the Underground, wher...   \n",
       "4     A 2D metroidvania with an emphasis on close co...   \n",
       "...                                                 ...   \n",
       "1507  Back to the Future: The Game is one of Telltal...   \n",
       "1508  Team Sonic Racing combines the best elements o...   \n",
       "1509  Set in a huge open world, Dragon’s Dogma: Dark...   \n",
       "1510  An ancient evil has returned to Baldur's Gate,...   \n",
       "1511  Join Emmet and an unlikely group of resistance...   \n",
       "\n",
       "                                                Reviews  \n",
       "0     [\"The first playthrough of elden ring is one o...  \n",
       "1     ['convinced this is a roguelike for people who...  \n",
       "2     ['This game is the game (that is not CS:GO) th...  \n",
       "3     ['soundtrack is tied for #1 with nier automata...  \n",
       "4     [\"this games worldbuilding is incredible, with...  \n",
       "...                                                 ...  \n",
       "1507  ['Very enjoyable game. The story adds onto the...  \n",
       "1508  ['jogo morto mas bom', 'not my cup of tea', \"C...  \n",
       "1509  ['Underrated.', 'A grandes rasgos, es como un ...  \n",
       "1510  ['Bu türe bu oyunla girmeye çalışmak hataydı s...  \n",
       "1511  ['Legal', 'Pretty Average Lego Game But It Was...  \n",
       "\n",
       "[1099 rows x 5 columns]"
      ]
     },
     "execution_count": 8,
     "metadata": {},
     "output_type": "execute_result"
    }
   ],
   "source": [
    "df.drop_duplicates(['Title'])"
   ]
  },
  {
   "cell_type": "code",
   "execution_count": 9,
   "metadata": {
    "colab": {
     "base_uri": "https://localhost:8080/",
     "height": 261
    },
    "id": "raMsE_IZ5xc5",
    "outputId": "b4156b35-0f5a-4b11-8cf1-9a20491b6fab"
   },
   "outputs": [
    {
     "data": {
      "text/html": [
       "<div>\n",
       "<style scoped>\n",
       "    .dataframe tbody tr th:only-of-type {\n",
       "        vertical-align: middle;\n",
       "    }\n",
       "\n",
       "    .dataframe tbody tr th {\n",
       "        vertical-align: top;\n",
       "    }\n",
       "\n",
       "    .dataframe thead th {\n",
       "        text-align: right;\n",
       "    }\n",
       "</style>\n",
       "<table border=\"1\" class=\"dataframe\">\n",
       "  <thead>\n",
       "    <tr style=\"text-align: right;\">\n",
       "      <th></th>\n",
       "      <th>0</th>\n",
       "    </tr>\n",
       "  </thead>\n",
       "  <tbody>\n",
       "    <tr>\n",
       "      <th>Title</th>\n",
       "      <td>0</td>\n",
       "    </tr>\n",
       "    <tr>\n",
       "      <th>Rating</th>\n",
       "      <td>13</td>\n",
       "    </tr>\n",
       "    <tr>\n",
       "      <th>Genres</th>\n",
       "      <td>0</td>\n",
       "    </tr>\n",
       "    <tr>\n",
       "      <th>Summary</th>\n",
       "      <td>1</td>\n",
       "    </tr>\n",
       "    <tr>\n",
       "      <th>Reviews</th>\n",
       "      <td>0</td>\n",
       "    </tr>\n",
       "  </tbody>\n",
       "</table>\n",
       "</div><br><label><b>dtype:</b> int64</label>"
      ],
      "text/plain": [
       "Title       0\n",
       "Rating     13\n",
       "Genres      0\n",
       "Summary     1\n",
       "Reviews     0\n",
       "dtype: int64"
      ]
     },
     "execution_count": 9,
     "metadata": {},
     "output_type": "execute_result"
    }
   ],
   "source": [
    "df.isnull().sum()"
   ]
  },
  {
   "cell_type": "code",
   "execution_count": 10,
   "metadata": {
    "id": "GtCiMb247LjQ"
   },
   "outputs": [],
   "source": [
    "df['Rating'] = df['Rating'].fillna(df['Rating'].mean())"
   ]
  },
  {
   "cell_type": "code",
   "execution_count": 11,
   "metadata": {
    "colab": {
     "base_uri": "https://localhost:8080/",
     "height": 261
    },
    "id": "kJ20JxrB7SHa",
    "outputId": "28575803-1cf7-45d0-f563-ade653f2553c"
   },
   "outputs": [
    {
     "data": {
      "text/html": [
       "<div>\n",
       "<style scoped>\n",
       "    .dataframe tbody tr th:only-of-type {\n",
       "        vertical-align: middle;\n",
       "    }\n",
       "\n",
       "    .dataframe tbody tr th {\n",
       "        vertical-align: top;\n",
       "    }\n",
       "\n",
       "    .dataframe thead th {\n",
       "        text-align: right;\n",
       "    }\n",
       "</style>\n",
       "<table border=\"1\" class=\"dataframe\">\n",
       "  <thead>\n",
       "    <tr style=\"text-align: right;\">\n",
       "      <th></th>\n",
       "      <th>0</th>\n",
       "    </tr>\n",
       "  </thead>\n",
       "  <tbody>\n",
       "    <tr>\n",
       "      <th>Title</th>\n",
       "      <td>0</td>\n",
       "    </tr>\n",
       "    <tr>\n",
       "      <th>Rating</th>\n",
       "      <td>0</td>\n",
       "    </tr>\n",
       "    <tr>\n",
       "      <th>Genres</th>\n",
       "      <td>0</td>\n",
       "    </tr>\n",
       "    <tr>\n",
       "      <th>Summary</th>\n",
       "      <td>1</td>\n",
       "    </tr>\n",
       "    <tr>\n",
       "      <th>Reviews</th>\n",
       "      <td>0</td>\n",
       "    </tr>\n",
       "  </tbody>\n",
       "</table>\n",
       "</div><br><label><b>dtype:</b> int64</label>"
      ],
      "text/plain": [
       "Title      0\n",
       "Rating     0\n",
       "Genres     0\n",
       "Summary    1\n",
       "Reviews    0\n",
       "dtype: int64"
      ]
     },
     "execution_count": 11,
     "metadata": {},
     "output_type": "execute_result"
    }
   ],
   "source": [
    "df.isnull().sum()"
   ]
  },
  {
   "cell_type": "code",
   "execution_count": 12,
   "metadata": {
    "id": "WetxVb437eiN"
   },
   "outputs": [],
   "source": [
    "df = df.dropna(subset = 'Summary')"
   ]
  },
  {
   "cell_type": "code",
   "execution_count": 13,
   "metadata": {
    "colab": {
     "base_uri": "https://localhost:8080/",
     "height": 261
    },
    "id": "6i9G3obD7inB",
    "outputId": "8b89a171-468c-4140-d81d-8461bc7d2db9"
   },
   "outputs": [
    {
     "data": {
      "text/html": [
       "<div>\n",
       "<style scoped>\n",
       "    .dataframe tbody tr th:only-of-type {\n",
       "        vertical-align: middle;\n",
       "    }\n",
       "\n",
       "    .dataframe tbody tr th {\n",
       "        vertical-align: top;\n",
       "    }\n",
       "\n",
       "    .dataframe thead th {\n",
       "        text-align: right;\n",
       "    }\n",
       "</style>\n",
       "<table border=\"1\" class=\"dataframe\">\n",
       "  <thead>\n",
       "    <tr style=\"text-align: right;\">\n",
       "      <th></th>\n",
       "      <th>0</th>\n",
       "    </tr>\n",
       "  </thead>\n",
       "  <tbody>\n",
       "    <tr>\n",
       "      <th>Title</th>\n",
       "      <td>0</td>\n",
       "    </tr>\n",
       "    <tr>\n",
       "      <th>Rating</th>\n",
       "      <td>0</td>\n",
       "    </tr>\n",
       "    <tr>\n",
       "      <th>Genres</th>\n",
       "      <td>0</td>\n",
       "    </tr>\n",
       "    <tr>\n",
       "      <th>Summary</th>\n",
       "      <td>0</td>\n",
       "    </tr>\n",
       "    <tr>\n",
       "      <th>Reviews</th>\n",
       "      <td>0</td>\n",
       "    </tr>\n",
       "  </tbody>\n",
       "</table>\n",
       "</div><br><label><b>dtype:</b> int64</label>"
      ],
      "text/plain": [
       "Title      0\n",
       "Rating     0\n",
       "Genres     0\n",
       "Summary    0\n",
       "Reviews    0\n",
       "dtype: int64"
      ]
     },
     "execution_count": 13,
     "metadata": {},
     "output_type": "execute_result"
    }
   ],
   "source": [
    "df.isnull().sum()"
   ]
  },
  {
   "cell_type": "code",
   "execution_count": 14,
   "metadata": {
    "id": "_d3-0Uijp_8c"
   },
   "outputs": [],
   "source": [
    "df[\"Combined\"] = (\n",
    "    \"Title: \" + df[\"Title\"].astype(str) + \" \" + # Title도 추가해서 combine에 넣었어요~!\n",
    "    \"Ratings: \" + df[\"Rating\"].astype(str) + \" \" +  # Rating을 문자열로 변환하고 접두사 추가\n",
    "    \"Genres: \"+ df[\"Genres\"].astype(str) + \" \" +   # Genres를 문자열로 변환\n",
    "    \"\\nDescription: \" + df[\"Summary\"] + \" \" +      # Description 앞에 줄 바꿈 추가\n",
    "    df[\"Reviews\"]                                  # Reviews 추가\n",
    ")\n",
    "\n",
    "# 특수문자 제거\n",
    "df[\"Combined\"] = df[\"Combined\"].str.replace(r'[\\[\\]\"\\'\\\\]', '', regex=True)\n",
    "df[\"Reviews\"] = df[\"Reviews\"].str.replace(r'[\\[\\]\"\\'\\\\]', '', regex=True)\n",
    "df[\"Summary\"] = df[\"Summary\"].str.replace(r'[\\[\\]\"\\'\\\\]', '', regex=True)\n",
    "\n",
    "# 공백 문제 처리\n",
    "df[\"Combined\"] = df[\"Combined\"].str.replace(r'\\s+', ' ', regex=True).str.strip()\n",
    "df[\"Reviews\"] = df[\"Reviews\"].str.replace(r'\\s+', ' ', regex=True).str.strip()\n",
    "df[\"Summary\"] = df[\"Summary\"].str.replace(r'\\s+', ' ', regex=True).str.strip()"
   ]
  },
  {
   "cell_type": "code",
   "execution_count": 15,
   "metadata": {
    "colab": {
     "base_uri": "https://localhost:8080/",
     "height": 226
    },
    "id": "QBdipKmn76PC",
    "outputId": "b7f37421-0187-4cbe-b880-04301bd40459"
   },
   "outputs": [
    {
     "data": {
      "application/vnd.google.colaboratory.intrinsic+json": {
       "summary": "{\n  \"name\": \"df\",\n  \"rows\": 1511,\n  \"fields\": [\n    {\n      \"column\": \"Title\",\n      \"properties\": {\n        \"dtype\": \"string\",\n        \"num_unique_values\": 1098,\n        \"samples\": [\n          \"Resident Evil 2\",\n          \"Ori and the Will of the Wisps\",\n          \"Devil May Cry 5\"\n        ],\n        \"semantic_type\": \"\",\n        \"description\": \"\"\n      }\n    },\n    {\n      \"column\": \"Rating\",\n      \"properties\": {\n        \"dtype\": \"number\",\n        \"std\": 0.5304870680250912,\n        \"min\": 0.7,\n        \"max\": 4.8,\n        \"num_unique_values\": 36,\n        \"samples\": [\n          1.8,\n          2.7,\n          3.7193462308205465\n        ],\n        \"semantic_type\": \"\",\n        \"description\": \"\"\n      }\n    },\n    {\n      \"column\": \"Genres\",\n      \"properties\": {\n        \"dtype\": \"category\",\n        \"num_unique_values\": 255,\n        \"samples\": [\n          \"['Adventure', 'Real Time Strategy', 'RPG', 'Simulator', 'Strategy']\",\n          \"['Indie', 'Strategy']\",\n          \"['Adventure', 'RPG', 'Strategy']\"\n        ],\n        \"semantic_type\": \"\",\n        \"description\": \"\"\n      }\n    },\n    {\n      \"column\": \"Summary\",\n      \"properties\": {\n        \"dtype\": \"string\",\n        \"num_unique_values\": 1112,\n        \"samples\": [\n          \"Isaac Clarke returns, joined by merciless soldier John Carver, to chase a risky plan that promises to finally stop the Necromorphs. Together Clarke and Carver must explore the frozen planet of Tau Volantis and track down the secret they hope will end the Necromorph plague forever, all while overcoming avalanches, treacherous ice-climbs, and the violent wilderness. Facing deadlier evolved enemies and brutal elements, the unlikely pair must work together to save mankind from the impending apocalypse. Fighting alongside a co-op partner changes the way you play the game. While playing the co-op version of Dead Space 3\\u2019s campaign, you will uncover additional story elements, cut-scenes, and battle strategies that are exclusive to this mode. Play how you want - immerse yourself in the classic single-player campaign with Isaac Clarke, then discover how the story evolves when a co-op partner is present in your campaign. Team up with a partner as Isaac Clarke or John Carver and take down the terror together. Facing deadlier evolved enemies and the brutal elements, the unlikely pair will work together to build weapons, overcome the harsh environment, and save mankind from the impending apocalypse. Create your weapon piece by piece. With thousands of possible combinations you can create the perfect weapon to take down the Necromorph plague. Using a multitude of parts, build the ultimate tool and the very best will be featured in Dead Space 3. Craft and share as many different weapon variations as you want.\",\n          \"Occasionally strange but completely addictive, Nintendos Animal Crossing for the GameCube is not so much a game as a simulation of life on a small town. Players begin the game by setting out to live life on their own in a colorful town, where they are greeted by a seemingly endless supply of things to do and characters to meet. Time passes in Animal Crossing in real-time, as the month, day, season, and time of day matches that of the players. Holiday seasons come and go in Animal Crossing, just as they would in the real world. Experience the freedom to fish, decorate your house, go bug catching, garden, write letters, and even play original Nintendo NES games in this imaginative, and addictive game.\",\n          \"Devil May Cry 5 is a brand-new entry in the legendary over-the-top action series Devil May Cry. The game features three playable characters, each with a radically different stylish combat play style as they take on the city overrun with demons. Developed with Capcom\\u2019s in-house proprietary RE engine, the series continues to achieve new heights in fidelity with graphics that utilize photorealistic character designs and stunning lighting and environmental effects.\"\n        ],\n        \"semantic_type\": \"\",\n        \"description\": \"\"\n      }\n    },\n    {\n      \"column\": \"Reviews\",\n      \"properties\": {\n        \"dtype\": \"string\",\n        \"num_unique_values\": 1117,\n        \"samples\": [\n          \"wow this is the best game ever I fucking ascended hello God, I have no idea what I just experienced but what a beautiful experience. Not a fan of Area X tho, shit makes me nauseous. Does not take away from how good the main game is though. I wanna platinum this one eventually. Also, the first PSVR2 game Ive beaten! First of many., Ive played many iterations of this but the PSVR2 is jaw-dropping and the best iteration. Eye-tracking and general fluidity is unparalleled., Amazing., Rez Infinite \\u00e9 a s\\u00edntese de uma obra de arte fleum\\u00e1tica que ascende ao perpassar do tempo, e no fenecimento encontra a transcend\\u00eancia de seu jaez, sua estrutura \\u00e9 frugal, mas sua vis\\u00e3o \\u00e9 inc\\u00f3lume e sine qua non a agrura de sua jornada, apesar de perene no remate se esteia., Ages ago, life was born in the primitive sea.\",\n          \"i wish british people were real, That\\u2019s Dunban over there, bad remaster, If the end wasnt such a no sense game would be 10/10, It really feels as though they struck gold when they first began creating this game. While the story is very simple almost shounen manga/anime levels of simple the presentation is absolutely perfect. The gameplay is very simple especially compared to later entries in the series (which is to be expected) and a lot of the side content is flat out terrible xenoblade 1 feels like a chance taken at experimenting that went extremely well, they forgot how to write women for this one\",\n          \"The only Life Is Strange game to really capture the strange part (character writing that feels like it was AI generated), Decent story driven game, pretty good story. The woke factor is high, but doesnt get too crazy and the characters are still pretty well written. Just not as emotional or as powerful as the first LIS for me., No nonsense honest review: The good, The bad and the dumb, Yeah... yeah, its definitely strange., EU N\\u00c3O ESPERAVA QUE FOSSE SER T\\u00c3O EMOCIONANTE, ISSO AQUI \\u00c9 LINDO DEMAIS N\\u00c3O TENHO NEM PALAVRAS PRA DESCREVER., EPISODE 3 PEAKED EPISODE 4 WAS A SHAMBLES\"\n        ],\n        \"semantic_type\": \"\",\n        \"description\": \"\"\n      }\n    },\n    {\n      \"column\": \"Combined\",\n      \"properties\": {\n        \"dtype\": \"string\",\n        \"num_unique_values\": 1127,\n        \"samples\": [\n          \"Title: Mega Man ZX Advent Ratings: 3.6 Genres: Adventure, Platform, Shooter Description: In Mega Man ZX Advent, the main characters discover the power of the mysterious Biometal model A, which on its own has several attacks, but also has a special Megamerge ability which allows the character to transform into one of eight Pseudoroid bosses that each have a unique set of abilities. Once a boss is defeated, players can emulate their powers to find hidden routes, discover rare items and aid their battles against more powerful enemies. The title takes full advantage of the Nintendo DS features to enhance the action-packed gameplay and story line of the popular series. More of the same as the last entry, but the transformation system is even more niche this time despite the bigger emphasis. I do appreciate the longer length and removal of a huge annoying map though., Vulturon is literally the perfect Mega Man character and he needs his own series., This game is a bit more streamlined than ZX, and changes a couple of things about it, but it feels largely the same. The gameplay differs from the ability to transform into bosses, which at first is really cool, but ends up being super niche and not super useful. It\\u2019s theirwise this game is pretty good, if you liked ZX, you\\u2019ll like this game for sure. Also Bad Voice Acting bonus points., pegou tudo que o ZX fez de errado e consertou, pegou tudo que o ZX fez de certo e estragou, tbh ZX is better, but this one is good too, Apesar de ter todos os mesmos pontos positivos de sua prequela e v\\u00e1rios adicionais, como o sistema de Morph muito criativo e uma narrativa t\\u00e3o boa quanto e algumas vezes at\\u00e9 melhor que a do jogo anterior, este sofre bem mais de defeitos. Um n\\u00edvel de dificuldade extremamente inconsistente, sendo ora muito dif\\u00edcil e ora muito f\\u00e1cil, um excesso de mec\\u00e2nicas quase in\\u00fateis, side quests totalmente in\\u00fateis e irrelevantes e a falta de identidade, sem saber se segue por MetroidVania ou sistema de fases igual o resto da franquia, tudo isso piora muito a experi\\u00eancia, apesar de ser extremamente divertido, n\\u00e3o se iguala \\u00e0 quem pretendeu outrora superar.\",\n          \"Title: La-Mulana Ratings: 3.9 Genres: Adventure, Indie, Platform, Puzzle Description: La-Mulana is the \\u201cRuins Exploration Archaeological action game\\u201d in which the player seek the \\u201cAnthropo-origin\\u201d, sleeps in the Huge Ruin La-Mulana, which is said the beginning of whole the civilizations. Various types of traps for blocking infiltrators are awaiting inside the ruins, and sentinel-monsters are roaming about. Target the deepest point of the ruins by figuring out riddles, putting off the monsters and deactivating the traps. The way to the goal will be extraordinary, more complex riddles will be waiting for you as you come deeper point. Handle Professor Lemeza to find out the Anthropo-origin! Tried playing this without a guide and found it to be a boring overly-cryptic slog. Tried playing this with a guide and it remained a boring slog except that I know what Im supposed to do now. Sorry, but I no longer have the patience to keep playing stuff Im not having any kind of fun with, which is a shame because I was digging the music, the story seemed interesting too., Ive failed at this game for over 60 hours and I know now that Ill never beat it. It was a lot of fun though., This is it, the ultimate adventure game., I love this game, I just wish I could love it more., Habr\\u00e9 desarrollado s\\u00edndrome de Estocolmo, pero todas las horas encerrado en esas ruinas han sido inolvidables, La-Mulana is not the kind of game willing to simply give you its secrets. La-Mulana is not the kind of game that expects you to earn its secrets, either. In truth, La-Mulana doesnt really care what you give it to get its secrets, because for La-Mulana, it will never be enough.n n La-Mulana doesnt want you ton n haven n its secrets. La-Mulana doesnt think youn n DESERVEn n its secrets. If you want La-Mulanasn n secretsn n , youre going to have to pry them from itsn n cold, dead handsn n .n n Thats right. Youre going to have to kill La-Mulana.\",\n          \"Title: Sekiro: Shadows Die Twice - GOTY Edition Ratings: 4.6 Genres: Adventure, Brawler, RPG Description: Carve your own clever path to vengeance in the award winning adventure from developer FromSoftware, creators of the Dark Souls series. Take Revenge. Restore Your Honor. Kill Ingeniously. This Game of the Year Edition now includes bonus content: - Reflection and Gauntlet of Strength - new boss challenge modes - Remnants - leave messages and recordings of your actions that other players can view and rate - 3 unlockable cosmetic skins Simplesmente uma perfei\\u00e7\\u00e3o. Estou completamente apaixonado por este jogo. De in\\u00edcio, tive muita dificuldade, pois \\u00e9 uma experi\\u00eancia bem diferente dos souls-like (apesar de nunca me sentir frustrado por entender que morrer faz parte do jogo, \\u00e9 um aprendizado, realmente n\\u00e3o \\u00e9 para matar todos os chefes de segunda ou terceira), e por um bom tempo n\\u00e3o estava muito animado, mas a partir do ponto que me acostumei com a mec\\u00e2nica, me apaixonei por tudo o que aparecia na minha frente. Em uma segunda jogatina eu confirmei o que j\\u00e1 imaginava, era tudo culpa minha. Eu n\\u00e3o estava jogando bem, mas quando consegui me adaptar, vi que, embora ainda haja uma boa dificuldade, o jogo \\u00e9 bem justo e te d\\u00e1 muitos recursos. Particularmente eu n\\u00e3o sou de usar buffs e outros itens, mas ent\\u00e3o o jogo jogou na minha cara que eu era um shinobi, n\\u00e3o um samurai honrado. O lance \\u00e9 tacar cinzas na cara, pegar por tr\\u00e1s, usar esquemas e montar estrat\\u00e9gias, e principalmente aprender a ter calma, pois a barra de vida serve praticamente para regular a de postura, e em vez de me desesperae pra causar dano, o ideal \\u00e9 se defender e evitar dano para que aproveite melhor as brechas do inimigo., CARALHO SEKIRO... PQP SEKIRO.... WTF MAN SEKIRO MAN! WTF..... I FUCKING LOVE SEKIRO BOY..... TIPO AAHHHHHH AHHHHHHHH SEKIRO AAAAAAAHHHH WOLF, I beat the final boss more than 30 minutes ago and my hand is still shaking., Goat, Well Done SEK\\u0130RO, best from software game\"\n        ],\n        \"semantic_type\": \"\",\n        \"description\": \"\"\n      }\n    }\n  ]\n}",
       "type": "dataframe",
       "variable_name": "df"
      },
      "text/html": [
       "\n",
       "  <div id=\"df-09cdeb15-8019-40a7-a85d-5d8717ef1b7b\" class=\"colab-df-container\">\n",
       "    <div>\n",
       "<style scoped>\n",
       "    .dataframe tbody tr th:only-of-type {\n",
       "        vertical-align: middle;\n",
       "    }\n",
       "\n",
       "    .dataframe tbody tr th {\n",
       "        vertical-align: top;\n",
       "    }\n",
       "\n",
       "    .dataframe thead th {\n",
       "        text-align: right;\n",
       "    }\n",
       "</style>\n",
       "<table border=\"1\" class=\"dataframe\">\n",
       "  <thead>\n",
       "    <tr style=\"text-align: right;\">\n",
       "      <th></th>\n",
       "      <th>Title</th>\n",
       "      <th>Rating</th>\n",
       "      <th>Genres</th>\n",
       "      <th>Summary</th>\n",
       "      <th>Reviews</th>\n",
       "      <th>Combined</th>\n",
       "    </tr>\n",
       "  </thead>\n",
       "  <tbody>\n",
       "    <tr>\n",
       "      <th>0</th>\n",
       "      <td>Elden Ring</td>\n",
       "      <td>4.5</td>\n",
       "      <td>['Adventure', 'RPG']</td>\n",
       "      <td>Elden Ring is a fantasy, action and open world...</td>\n",
       "      <td>The first playthrough of elden ring is one of ...</td>\n",
       "      <td>Title: Elden Ring Ratings: 4.5 Genres: Adventu...</td>\n",
       "    </tr>\n",
       "    <tr>\n",
       "      <th>1</th>\n",
       "      <td>Hades</td>\n",
       "      <td>4.3</td>\n",
       "      <td>['Adventure', 'Brawler', 'Indie', 'RPG']</td>\n",
       "      <td>A rogue-lite hack and slash dungeon crawler in...</td>\n",
       "      <td>convinced this is a roguelike for people who d...</td>\n",
       "      <td>Title: Hades Ratings: 4.3 Genres: Adventure, B...</td>\n",
       "    </tr>\n",
       "    <tr>\n",
       "      <th>2</th>\n",
       "      <td>The Legend of Zelda: Breath of the Wild</td>\n",
       "      <td>4.4</td>\n",
       "      <td>['Adventure', 'RPG']</td>\n",
       "      <td>The Legend of Zelda: Breath of the Wild is the...</td>\n",
       "      <td>This game is the game (that is not CS:GO) that...</td>\n",
       "      <td>Title: The Legend of Zelda: Breath of the Wild...</td>\n",
       "    </tr>\n",
       "    <tr>\n",
       "      <th>3</th>\n",
       "      <td>Undertale</td>\n",
       "      <td>4.2</td>\n",
       "      <td>['Adventure', 'Indie', 'RPG', 'Turn Based Stra...</td>\n",
       "      <td>A small child falls into the Underground, wher...</td>\n",
       "      <td>soundtrack is tied for #1 with nier automata. ...</td>\n",
       "      <td>Title: Undertale Ratings: 4.2 Genres: Adventur...</td>\n",
       "    </tr>\n",
       "    <tr>\n",
       "      <th>4</th>\n",
       "      <td>Hollow Knight</td>\n",
       "      <td>4.4</td>\n",
       "      <td>['Adventure', 'Indie', 'Platform']</td>\n",
       "      <td>A 2D metroidvania with an emphasis on close co...</td>\n",
       "      <td>this games worldbuilding is incredible, with i...</td>\n",
       "      <td>Title: Hollow Knight Ratings: 4.4 Genres: Adve...</td>\n",
       "    </tr>\n",
       "  </tbody>\n",
       "</table>\n",
       "</div>\n",
       "    <div class=\"colab-df-buttons\">\n",
       "\n",
       "  <div class=\"colab-df-container\">\n",
       "    <button class=\"colab-df-convert\" onclick=\"convertToInteractive('df-09cdeb15-8019-40a7-a85d-5d8717ef1b7b')\"\n",
       "            title=\"Convert this dataframe to an interactive table.\"\n",
       "            style=\"display:none;\">\n",
       "\n",
       "  <svg xmlns=\"http://www.w3.org/2000/svg\" height=\"24px\" viewBox=\"0 -960 960 960\">\n",
       "    <path d=\"M120-120v-720h720v720H120Zm60-500h600v-160H180v160Zm220 220h160v-160H400v160Zm0 220h160v-160H400v160ZM180-400h160v-160H180v160Zm440 0h160v-160H620v160ZM180-180h160v-160H180v160Zm440 0h160v-160H620v160Z\"/>\n",
       "  </svg>\n",
       "    </button>\n",
       "\n",
       "  <style>\n",
       "    .colab-df-container {\n",
       "      display:flex;\n",
       "      gap: 12px;\n",
       "    }\n",
       "\n",
       "    .colab-df-convert {\n",
       "      background-color: #E8F0FE;\n",
       "      border: none;\n",
       "      border-radius: 50%;\n",
       "      cursor: pointer;\n",
       "      display: none;\n",
       "      fill: #1967D2;\n",
       "      height: 32px;\n",
       "      padding: 0 0 0 0;\n",
       "      width: 32px;\n",
       "    }\n",
       "\n",
       "    .colab-df-convert:hover {\n",
       "      background-color: #E2EBFA;\n",
       "      box-shadow: 0px 1px 2px rgba(60, 64, 67, 0.3), 0px 1px 3px 1px rgba(60, 64, 67, 0.15);\n",
       "      fill: #174EA6;\n",
       "    }\n",
       "\n",
       "    .colab-df-buttons div {\n",
       "      margin-bottom: 4px;\n",
       "    }\n",
       "\n",
       "    [theme=dark] .colab-df-convert {\n",
       "      background-color: #3B4455;\n",
       "      fill: #D2E3FC;\n",
       "    }\n",
       "\n",
       "    [theme=dark] .colab-df-convert:hover {\n",
       "      background-color: #434B5C;\n",
       "      box-shadow: 0px 1px 3px 1px rgba(0, 0, 0, 0.15);\n",
       "      filter: drop-shadow(0px 1px 2px rgba(0, 0, 0, 0.3));\n",
       "      fill: #FFFFFF;\n",
       "    }\n",
       "  </style>\n",
       "\n",
       "    <script>\n",
       "      const buttonEl =\n",
       "        document.querySelector('#df-09cdeb15-8019-40a7-a85d-5d8717ef1b7b button.colab-df-convert');\n",
       "      buttonEl.style.display =\n",
       "        google.colab.kernel.accessAllowed ? 'block' : 'none';\n",
       "\n",
       "      async function convertToInteractive(key) {\n",
       "        const element = document.querySelector('#df-09cdeb15-8019-40a7-a85d-5d8717ef1b7b');\n",
       "        const dataTable =\n",
       "          await google.colab.kernel.invokeFunction('convertToInteractive',\n",
       "                                                    [key], {});\n",
       "        if (!dataTable) return;\n",
       "\n",
       "        const docLinkHtml = 'Like what you see? Visit the ' +\n",
       "          '<a target=\"_blank\" href=https://colab.research.google.com/notebooks/data_table.ipynb>data table notebook</a>'\n",
       "          + ' to learn more about interactive tables.';\n",
       "        element.innerHTML = '';\n",
       "        dataTable['output_type'] = 'display_data';\n",
       "        await google.colab.output.renderOutput(dataTable, element);\n",
       "        const docLink = document.createElement('div');\n",
       "        docLink.innerHTML = docLinkHtml;\n",
       "        element.appendChild(docLink);\n",
       "      }\n",
       "    </script>\n",
       "  </div>\n",
       "\n",
       "\n",
       "<div id=\"df-1ec18189-6b7f-4605-8670-3766a6299bdc\">\n",
       "  <button class=\"colab-df-quickchart\" onclick=\"quickchart('df-1ec18189-6b7f-4605-8670-3766a6299bdc')\"\n",
       "            title=\"Suggest charts\"\n",
       "            style=\"display:none;\">\n",
       "\n",
       "<svg xmlns=\"http://www.w3.org/2000/svg\" height=\"24px\"viewBox=\"0 0 24 24\"\n",
       "     width=\"24px\">\n",
       "    <g>\n",
       "        <path d=\"M19 3H5c-1.1 0-2 .9-2 2v14c0 1.1.9 2 2 2h14c1.1 0 2-.9 2-2V5c0-1.1-.9-2-2-2zM9 17H7v-7h2v7zm4 0h-2V7h2v10zm4 0h-2v-4h2v4z\"/>\n",
       "    </g>\n",
       "</svg>\n",
       "  </button>\n",
       "\n",
       "<style>\n",
       "  .colab-df-quickchart {\n",
       "      --bg-color: #E8F0FE;\n",
       "      --fill-color: #1967D2;\n",
       "      --hover-bg-color: #E2EBFA;\n",
       "      --hover-fill-color: #174EA6;\n",
       "      --disabled-fill-color: #AAA;\n",
       "      --disabled-bg-color: #DDD;\n",
       "  }\n",
       "\n",
       "  [theme=dark] .colab-df-quickchart {\n",
       "      --bg-color: #3B4455;\n",
       "      --fill-color: #D2E3FC;\n",
       "      --hover-bg-color: #434B5C;\n",
       "      --hover-fill-color: #FFFFFF;\n",
       "      --disabled-bg-color: #3B4455;\n",
       "      --disabled-fill-color: #666;\n",
       "  }\n",
       "\n",
       "  .colab-df-quickchart {\n",
       "    background-color: var(--bg-color);\n",
       "    border: none;\n",
       "    border-radius: 50%;\n",
       "    cursor: pointer;\n",
       "    display: none;\n",
       "    fill: var(--fill-color);\n",
       "    height: 32px;\n",
       "    padding: 0;\n",
       "    width: 32px;\n",
       "  }\n",
       "\n",
       "  .colab-df-quickchart:hover {\n",
       "    background-color: var(--hover-bg-color);\n",
       "    box-shadow: 0 1px 2px rgba(60, 64, 67, 0.3), 0 1px 3px 1px rgba(60, 64, 67, 0.15);\n",
       "    fill: var(--button-hover-fill-color);\n",
       "  }\n",
       "\n",
       "  .colab-df-quickchart-complete:disabled,\n",
       "  .colab-df-quickchart-complete:disabled:hover {\n",
       "    background-color: var(--disabled-bg-color);\n",
       "    fill: var(--disabled-fill-color);\n",
       "    box-shadow: none;\n",
       "  }\n",
       "\n",
       "  .colab-df-spinner {\n",
       "    border: 2px solid var(--fill-color);\n",
       "    border-color: transparent;\n",
       "    border-bottom-color: var(--fill-color);\n",
       "    animation:\n",
       "      spin 1s steps(1) infinite;\n",
       "  }\n",
       "\n",
       "  @keyframes spin {\n",
       "    0% {\n",
       "      border-color: transparent;\n",
       "      border-bottom-color: var(--fill-color);\n",
       "      border-left-color: var(--fill-color);\n",
       "    }\n",
       "    20% {\n",
       "      border-color: transparent;\n",
       "      border-left-color: var(--fill-color);\n",
       "      border-top-color: var(--fill-color);\n",
       "    }\n",
       "    30% {\n",
       "      border-color: transparent;\n",
       "      border-left-color: var(--fill-color);\n",
       "      border-top-color: var(--fill-color);\n",
       "      border-right-color: var(--fill-color);\n",
       "    }\n",
       "    40% {\n",
       "      border-color: transparent;\n",
       "      border-right-color: var(--fill-color);\n",
       "      border-top-color: var(--fill-color);\n",
       "    }\n",
       "    60% {\n",
       "      border-color: transparent;\n",
       "      border-right-color: var(--fill-color);\n",
       "    }\n",
       "    80% {\n",
       "      border-color: transparent;\n",
       "      border-right-color: var(--fill-color);\n",
       "      border-bottom-color: var(--fill-color);\n",
       "    }\n",
       "    90% {\n",
       "      border-color: transparent;\n",
       "      border-bottom-color: var(--fill-color);\n",
       "    }\n",
       "  }\n",
       "</style>\n",
       "\n",
       "  <script>\n",
       "    async function quickchart(key) {\n",
       "      const quickchartButtonEl =\n",
       "        document.querySelector('#' + key + ' button');\n",
       "      quickchartButtonEl.disabled = true;  // To prevent multiple clicks.\n",
       "      quickchartButtonEl.classList.add('colab-df-spinner');\n",
       "      try {\n",
       "        const charts = await google.colab.kernel.invokeFunction(\n",
       "            'suggestCharts', [key], {});\n",
       "      } catch (error) {\n",
       "        console.error('Error during call to suggestCharts:', error);\n",
       "      }\n",
       "      quickchartButtonEl.classList.remove('colab-df-spinner');\n",
       "      quickchartButtonEl.classList.add('colab-df-quickchart-complete');\n",
       "    }\n",
       "    (() => {\n",
       "      let quickchartButtonEl =\n",
       "        document.querySelector('#df-1ec18189-6b7f-4605-8670-3766a6299bdc button');\n",
       "      quickchartButtonEl.style.display =\n",
       "        google.colab.kernel.accessAllowed ? 'block' : 'none';\n",
       "    })();\n",
       "  </script>\n",
       "</div>\n",
       "\n",
       "    </div>\n",
       "  </div>\n"
      ],
      "text/plain": [
       "                                     Title  Rating  \\\n",
       "0                               Elden Ring     4.5   \n",
       "1                                    Hades     4.3   \n",
       "2  The Legend of Zelda: Breath of the Wild     4.4   \n",
       "3                                Undertale     4.2   \n",
       "4                            Hollow Knight     4.4   \n",
       "\n",
       "                                              Genres  \\\n",
       "0                               ['Adventure', 'RPG']   \n",
       "1           ['Adventure', 'Brawler', 'Indie', 'RPG']   \n",
       "2                               ['Adventure', 'RPG']   \n",
       "3  ['Adventure', 'Indie', 'RPG', 'Turn Based Stra...   \n",
       "4                 ['Adventure', 'Indie', 'Platform']   \n",
       "\n",
       "                                             Summary  \\\n",
       "0  Elden Ring is a fantasy, action and open world...   \n",
       "1  A rogue-lite hack and slash dungeon crawler in...   \n",
       "2  The Legend of Zelda: Breath of the Wild is the...   \n",
       "3  A small child falls into the Underground, wher...   \n",
       "4  A 2D metroidvania with an emphasis on close co...   \n",
       "\n",
       "                                             Reviews  \\\n",
       "0  The first playthrough of elden ring is one of ...   \n",
       "1  convinced this is a roguelike for people who d...   \n",
       "2  This game is the game (that is not CS:GO) that...   \n",
       "3  soundtrack is tied for #1 with nier automata. ...   \n",
       "4  this games worldbuilding is incredible, with i...   \n",
       "\n",
       "                                            Combined  \n",
       "0  Title: Elden Ring Ratings: 4.5 Genres: Adventu...  \n",
       "1  Title: Hades Ratings: 4.3 Genres: Adventure, B...  \n",
       "2  Title: The Legend of Zelda: Breath of the Wild...  \n",
       "3  Title: Undertale Ratings: 4.2 Genres: Adventur...  \n",
       "4  Title: Hollow Knight Ratings: 4.4 Genres: Adve...  "
      ]
     },
     "execution_count": 15,
     "metadata": {},
     "output_type": "execute_result"
    }
   ],
   "source": [
    "df.head()"
   ]
  },
  {
   "cell_type": "code",
   "execution_count": 16,
   "metadata": {
    "id": "LO4zBHn8-jjX"
   },
   "outputs": [],
   "source": [
    "preprocessed_data = df.drop(columns=['Genres', 'Rating', 'Reviews', 'Summary'])"
   ]
  },
  {
   "cell_type": "code",
   "execution_count": 17,
   "metadata": {
    "colab": {
     "base_uri": "https://localhost:8080/"
    },
    "id": "LYPWWkcd_hnK",
    "outputId": "28562405-6045-442c-ed20-e765ff7600ab"
   },
   "outputs": [
    {
     "name": "stdout",
     "output_type": "stream",
     "text": [
      "                                        Title  \\\n",
      "0                                  Elden Ring   \n",
      "1                                       Hades   \n",
      "2     The Legend of Zelda: Breath of the Wild   \n",
      "3                                   Undertale   \n",
      "4                               Hollow Knight   \n",
      "...                                       ...   \n",
      "1507             Back to the Future: The Game   \n",
      "1508                        Team Sonic Racing   \n",
      "1509                           Dragon's Dogma   \n",
      "1510                          Baldur's Gate 3   \n",
      "1511                 The LEGO Movie Videogame   \n",
      "\n",
      "                                               Combined  \n",
      "0     Title: Elden Ring Ratings: 4.5 Genres: Adventu...  \n",
      "1     Title: Hades Ratings: 4.3 Genres: Adventure, B...  \n",
      "2     Title: The Legend of Zelda: Breath of the Wild...  \n",
      "3     Title: Undertale Ratings: 4.2 Genres: Adventur...  \n",
      "4     Title: Hollow Knight Ratings: 4.4 Genres: Adve...  \n",
      "...                                                 ...  \n",
      "1507  Title: Back to the Future: The Game Ratings: 3...  \n",
      "1508  Title: Team Sonic Racing Ratings: 2.9 Genres: ...  \n",
      "1509  Title: Dragons Dogma Ratings: 3.7 Genres: Braw...  \n",
      "1510  Title: Baldurs Gate 3 Ratings: 4.1 Genres: Adv...  \n",
      "1511  Title: The LEGO Movie Videogame Ratings: 2.8 G...  \n",
      "\n",
      "[1511 rows x 2 columns]\n"
     ]
    }
   ],
   "source": [
    "print(preprocessed_data)"
   ]
  },
  {
   "cell_type": "code",
   "execution_count": 18,
   "metadata": {
    "id": "kIrSOnONW__g"
   },
   "outputs": [],
   "source": [
    "df['Genres'] = df['Genres'].str.replace(r\"['\\[\\]]\", '', regex=True)"
   ]
  },
  {
   "cell_type": "markdown",
   "metadata": {
    "id": "8F7gucKS8Q8K"
   },
   "source": [
    "# 3. training data 구성"
   ]
  },
  {
   "cell_type": "code",
   "execution_count": 19,
   "metadata": {
    "id": "yPVpUgmsqFZb"
   },
   "outputs": [],
   "source": [
    "# TF-IDF 벡터화\n",
    "tfidf = TfidfVectorizer(stop_words=\"english\")\n",
    "tfidf_matrix = tfidf.fit_transform(df[\"Combined\"])"
   ]
  },
  {
   "cell_type": "code",
   "execution_count": 20,
   "metadata": {
    "id": "sxukrJ8opW8R"
   },
   "outputs": [],
   "source": [
    "def generate_user_queries(row):\n",
    "    import random\n",
    "\n",
    "\n",
    "    genres = row['Genres']\n",
    "    summaries = row['Summary']\n",
    "    title = row['Title']\n",
    "    rating = row['Rating']\n",
    "    review = row['Reviews']\n",
    "    templates = [\n",
    "        # 장르 기반 쿼리\n",
    "        f\"I am looking for a {genres} game.\",\n",
    "        f\"Can you recommend a {genres} game?\",\n",
    "        f\"Suggest me a {genres} game.\",\n",
    "        f\"I want to try a {genres} game.\",\n",
    "        f\"What are the best {genres} games?\",\n",
    "        f\"Are there any {genres} games you recommend?\",\n",
    "        f\"I need a new {genres} game to play.\",\n",
    "        f\"Can you find me a good {genres} game?\",\n",
    "\n",
    "\n",
    "        # 기타 표현\n",
    "        f\"Can you find me a fun {genres} game?\",\n",
    "        f\"I want a new adventure in the {genres} genre.\",\n",
    "        f\"Recommend a game that's exciting and {genres}.\",\n",
    "        f\"I need a {genres} game to pass the time.\",\n",
    "        f\"I'm looking for a {genres} game that's worth playing.\"\n",
    "         \"I’m looking for a game that is calm and peaceful. Any ideas?\",\n",
    "        \"Can you recommend a game with an exciting storyline?\",\n",
    "        \"What’s a good game with beautiful landscapes to explore?\",\n",
    "        \"Are there any games with a mix of action and strategy?\",\n",
    "        \"I need a game where I can make important choices. Suggestions?\",\n",
    "        \"What are the best games for exploring mysterious worlds?\",\n",
    "        \"Can you help me find a game with a strong and emotional narrative?\",\n",
    "        \"What’s a good game that offers freedom to roam and explore?\",\n",
    "        \"I’m looking for a game that feels like an epic adventure.\",\n",
    "        \"What are some games with magical or fantasy themes?\",\n",
    "        \"Can you suggest a game with great puzzles and challenges?\",\n",
    "        \"I’m in the mood for a game that’s all about discovery and wonder.\",\n",
    "        \"What’s a game that blends creativity with engaging gameplay?\",\n",
    "        \"I want to play a game where the environment feels alive. Any ideas?\",\n",
    "        \"What’s a good game that lets me build and customize things freely?\",\n",
    "        \"I’m searching for a game that’s relaxing yet immersive.\",\n",
    "        \"What are the best games that focus on exploration and story?\",\n",
    "        \"Can you recommend a game where I can just sit back and enjoy the story?\",\n",
    "        \"What’s a game that takes me on an unforgettable journey?\",\n",
    "        \"I want a game that’s easy to pick up but hard to master. Any suggestions?\",\n",
    "        \"What’s a great game for playing with friends online?\",\n",
    "        \"Can you suggest a game that’s perfect for a rainy day?\",\n",
    "        \"What are some fun games for casual players?\",\n",
    "        \"I want to dive into a game with a rich and detailed world. Any ideas?\",\n",
    "        \"What’s a good game that I can play for hours without getting bored?\",\n",
    "        \"I need a game that’s both challenging and rewarding.\",\n",
    "        \"Can you recommend a game that’s great for creative thinkers?\",\n",
    "        \"What’s a game that offers a sense of wonder and discovery?\",\n",
    "        \"Are there any games that let me create and customize my experience?\",\n",
    "        \"I’m looking for a game that’s perfect for short play sessions.\",\n",
    "        \"What’s a good game that combines action with great visuals?\",\n",
    "        \"I want a game that keeps me on the edge of my seat. Suggestions?\",\n",
    "        \"What’s a game that’s both exciting and relaxing at the same time?\",\n",
    "        \"I need a game that’s perfect for playing after work. Any ideas?\",\n",
    "        \"Can you recommend a game that feels like a great escape?\",\n",
    "        # 기타 자주 묻는 질문들\n",
    "        \"What are the best free games available right now?\",\n",
    "        \"Can you suggest a game I can play in short sessions?\",\n",
    "        \"What are some of the top-rated games released this year?\",\n",
    "        \"What’s a good game that’s perfect for multiplayer fun?\",\n",
    "        \"Are there any games with a nostalgic feel worth playing?\",\n",
    "        \"What’s a game that’s easy to get into but hard to stop playing?\",\n",
    "        \"What are the most visually stunning games I should try?\",\n",
    "        \"What’s a hidden gem that not many people know about?\",\n",
    "        \"What’s a good game that balances fun and challenge perfectly?\",\n",
    "        \"Can you suggest a game that feels like an emotional journey?\",\n",
    "        \"What’s a recent game that everyone seems to be talking about?\",\n",
    "        \"Are there any games that blend humor and adventure well?\",\n",
    "        \"What’s a game that’s worth playing for its story alone?\",\n",
    "        \"What’s a game with breathtaking visuals and an epic scale?\",\n",
    "        \"What’s a game that’s both family-friendly and engaging?\",\n",
    "        \"What’s a game that can make me feel like a hero?\",\n",
    "        \"Can you suggest a game that feels rewarding and satisfying?\",\n",
    "        \"What’s a game that offers a unique and unforgettable experience?\",\n",
    "        \"What’s a great game for players who love to solve mysteries?\",\n",
    "        \"What’s a good game that focuses on player creativity?\",\n",
    "    ]\n",
    "\n",
    "    return random.choice(templates)\n"
   ]
  },
  {
   "cell_type": "code",
   "execution_count": 21,
   "metadata": {
    "id": "ohHa22VVpYOH"
   },
   "outputs": [],
   "source": [
    "def create_training_data_with_cosine_similarity(df, tfidf_matrix, num_queries, top_k, threshold=0.1):\n",
    "    \"\"\"\n",
    "    코사인 유사도가 threshold 이상일 때만 추천에 포함하며, 추천 결과가 없는 경우 데이터에서 제외.\n",
    "    중복된 쿼리는 사용하지 않음.\n",
    "    \"\"\"\n",
    "    training_data = []\n",
    "    sampled_indices = random.sample(range(len(df)), num_queries)  # 중복 없는 샘플링\n",
    "    seen_queries = set()  # 중복 쿼리 확인용 집합\n",
    "\n",
    "    for idx in sampled_indices:\n",
    "        random_row = df.iloc[idx]  # 데이터 선택\n",
    "        user_query = generate_user_queries(random_row)  # 사용자 쿼리 생성\n",
    "\n",
    "        # 중복 쿼리 제거\n",
    "        if user_query in seen_queries:\n",
    "            continue\n",
    "        seen_queries.add(user_query)\n",
    "\n",
    "        user_vector = tfidf.transform([user_query])  # 사용자 쿼리 벡터화\n",
    "        cosine_similarities = cosine_similarity(user_vector, tfidf_matrix).flatten()  # 코사인 유사도 계산\n",
    "        top_indices = cosine_similarities.argsort()[::-1]  # 유사도가 높은 순서대로 정렬\n",
    "\n",
    "        recommendations = []\n",
    "        seen_titles = set()  # 중복 방지를 위한 집합\n",
    "\n",
    "        for idx in top_indices:\n",
    "            if len(recommendations) >= top_k:  # 최대 top_k개의 추천\n",
    "                break\n",
    "\n",
    "            # 유사도 조건 추가\n",
    "            if cosine_similarities[idx] < threshold:  # 유사도가 threshold보다 낮으면 무시\n",
    "                continue\n",
    "\n",
    "            game_title = df.iloc[idx]['Title']\n",
    "            if game_title in seen_titles:  # 중복된 게임은 제외\n",
    "                continue\n",
    "\n",
    "            game_summary = df.iloc[idx]['Combined']\n",
    "            recommendations.append(f\"Game: {game_title}\\n {game_summary}\")\n",
    "            seen_titles.add(game_title)\n",
    "\n",
    "        # 추천 결과가 없는 경우 데이터 추가하지 않음\n",
    "        if recommendations:\n",
    "            output_text = \"\\n\\n\".join(recommendations)\n",
    "            training_data.append({\n",
    "                \"Text\": f\"input_text: {user_query} output_text: {output_text}\"\n",
    "            })\n",
    "\n",
    "    return pd.DataFrame(training_data)\n"
   ]
  },
  {
   "cell_type": "code",
   "execution_count": null,
   "metadata": {
    "id": "NM03ZwTUWic9"
   },
   "outputs": [],
   "source": [
    "del training_data"
   ]
  },
  {
   "cell_type": "code",
   "execution_count": 22,
   "metadata": {
    "id": "YwiXs8mLplrk"
   },
   "outputs": [],
   "source": [
    "training_data = create_training_data_with_cosine_similarity(df, tfidf_matrix, num_queries=1500, top_k=10,threshold=0.1)"
   ]
  },
  {
   "cell_type": "code",
   "execution_count": 23,
   "metadata": {
    "colab": {
     "base_uri": "https://localhost:8080/"
    },
    "id": "MhWLfdM78s0c",
    "outputId": "76a35f73-b76d-4c0f-b6dc-94a5242c0b17"
   },
   "outputs": [
    {
     "name": "stdout",
     "output_type": "stream",
     "text": [
      "                                                  Text\n",
      "0    input_text: What’s a good game that combines a...\n",
      "1    input_text: Are there any games with a mix of ...\n",
      "2    input_text: What’s a game that’s easy to get i...\n",
      "3    input_text: I need a game that’s perfect for p...\n",
      "4    input_text: What’s a hidden gem that not many ...\n",
      "..                                                 ...\n",
      "241  input_text: I need a RPG game to pass the time...\n",
      "242  input_text: I need a new Adventure, Tactical g...\n",
      "243  input_text: Are there any Adventure, Shooter g...\n",
      "244  input_text: Suggest me a Adventure, Strategy g...\n",
      "245  input_text: I am looking for a Racing game. ou...\n",
      "\n",
      "[246 rows x 1 columns]\n"
     ]
    }
   ],
   "source": [
    "print(training_data)"
   ]
  },
  {
   "cell_type": "code",
   "execution_count": null,
   "metadata": {
    "colab": {
     "base_uri": "https://localhost:8080/",
     "height": 17
    },
    "id": "2gpuwixfVzG-",
    "outputId": "abea6fbe-be8d-4685-f3a5-df1d18c40797"
   },
   "outputs": [
    {
     "data": {
      "application/javascript": [
       "\n",
       "    async function download(id, filename, size) {\n",
       "      if (!google.colab.kernel.accessAllowed) {\n",
       "        return;\n",
       "      }\n",
       "      const div = document.createElement('div');\n",
       "      const label = document.createElement('label');\n",
       "      label.textContent = `Downloading \"${filename}\": `;\n",
       "      div.appendChild(label);\n",
       "      const progress = document.createElement('progress');\n",
       "      progress.max = size;\n",
       "      div.appendChild(progress);\n",
       "      document.body.appendChild(div);\n",
       "\n",
       "      const buffers = [];\n",
       "      let downloaded = 0;\n",
       "\n",
       "      const channel = await google.colab.kernel.comms.open(id);\n",
       "      // Send a message to notify the kernel that we're ready.\n",
       "      channel.send({})\n",
       "\n",
       "      for await (const message of channel.messages) {\n",
       "        // Send a message to notify the kernel that we're ready.\n",
       "        channel.send({})\n",
       "        if (message.buffers) {\n",
       "          for (const buffer of message.buffers) {\n",
       "            buffers.push(buffer);\n",
       "            downloaded += buffer.byteLength;\n",
       "            progress.value = downloaded;\n",
       "          }\n",
       "        }\n",
       "      }\n",
       "      const blob = new Blob(buffers, {type: 'application/binary'});\n",
       "      const a = document.createElement('a');\n",
       "      a.href = window.URL.createObjectURL(blob);\n",
       "      a.download = filename;\n",
       "      div.appendChild(a);\n",
       "      a.click();\n",
       "      div.remove();\n",
       "    }\n",
       "  "
      ],
      "text/plain": [
       "<IPython.core.display.Javascript object>"
      ]
     },
     "metadata": {},
     "output_type": "display_data"
    },
    {
     "data": {
      "application/javascript": [
       "download(\"download_3822ac51-a23f-48c3-b617-7b78db38e9e5\", \"training_data.csv\", 2780134)"
      ],
      "text/plain": [
       "<IPython.core.display.Javascript object>"
      ]
     },
     "metadata": {},
     "output_type": "display_data"
    }
   ],
   "source": [
    "# Save the training data as a CSV file\n",
    "file_path = \"training_data.csv\"\n",
    "training_data.to_csv(file_path, index=False)\n",
    "\n",
    "# Provide file for download\n",
    "from google.colab import files\n",
    "files.download(file_path)\n"
   ]
  },
  {
   "cell_type": "code",
   "execution_count": 24,
   "metadata": {
    "colab": {
     "base_uri": "https://localhost:8080/"
    },
    "id": "Lv-CzCrLJKKe",
    "outputId": "420d334a-1add-480b-e699-e3759c53bf04"
   },
   "outputs": [
    {
     "name": "stdout",
     "output_type": "stream",
     "text": [
      "0       Title: Elden Ring Ratings: 4.5 Genres: Adventu...\n",
      "1       Title: Hades Ratings: 4.3 Genres: Adventure, B...\n",
      "2       Title: The Legend of Zelda: Breath of the Wild...\n",
      "3       Title: Undertale Ratings: 4.2 Genres: Adventur...\n",
      "4       Title: Hollow Knight Ratings: 4.4 Genres: Adve...\n",
      "                              ...                        \n",
      "1507    Title: Back to the Future: The Game Ratings: 3...\n",
      "1508    Title: Team Sonic Racing Ratings: 2.9 Genres: ...\n",
      "1509    Title: Dragons Dogma Ratings: 3.7 Genres: Braw...\n",
      "1510    Title: Baldurs Gate 3 Ratings: 4.1 Genres: Adv...\n",
      "1511    Title: The LEGO Movie Videogame Ratings: 2.8 G...\n",
      "Name: Combined, Length: 1511, dtype: object\n"
     ]
    }
   ],
   "source": [
    "print(preprocessed_data[\"Combined\"])"
   ]
  },
  {
   "cell_type": "code",
   "execution_count": 25,
   "metadata": {
    "id": "AtyP0rzL8z5_"
   },
   "outputs": [],
   "source": [
    "combined_texts = preprocessed_data['Combined'].dropna().rename('Text')\n",
    "training_data = pd.concat([training_data, combined_texts.to_frame()], ignore_index=True)"
   ]
  },
  {
   "cell_type": "code",
   "execution_count": 26,
   "metadata": {
    "colab": {
     "base_uri": "https://localhost:8080/"
    },
    "id": "AxDnFh1O9AWM",
    "outputId": "cfefbcfc-4a5a-4206-f57a-897be39fa3dd"
   },
   "outputs": [
    {
     "name": "stdout",
     "output_type": "stream",
     "text": [
      "                                                   Text\n",
      "0     input_text: What’s a good game that combines a...\n",
      "1     input_text: Are there any games with a mix of ...\n",
      "2     input_text: What’s a game that’s easy to get i...\n",
      "3     input_text: I need a game that’s perfect for p...\n",
      "4     input_text: What’s a hidden gem that not many ...\n",
      "...                                                 ...\n",
      "1752  Title: Back to the Future: The Game Ratings: 3...\n",
      "1753  Title: Team Sonic Racing Ratings: 2.9 Genres: ...\n",
      "1754  Title: Dragons Dogma Ratings: 3.7 Genres: Braw...\n",
      "1755  Title: Baldurs Gate 3 Ratings: 4.1 Genres: Adv...\n",
      "1756  Title: The LEGO Movie Videogame Ratings: 2.8 G...\n",
      "\n",
      "[1757 rows x 1 columns]\n"
     ]
    }
   ],
   "source": [
    "print(training_data)"
   ]
  },
  {
   "cell_type": "code",
   "execution_count": 1,
   "metadata": {
    "colab": {
     "base_uri": "https://localhost:8080/",
     "height": 243
    },
    "id": "hevKNpb0qigs",
    "outputId": "db70c876-bf68-492e-c186-b020d122578d"
   },
   "outputs": [
    {
     "ename": "NameError",
     "evalue": "name 'training_data' is not defined",
     "output_type": "error",
     "traceback": [
      "\u001b[0;31m---------------------------------------------------------------------------\u001b[0m",
      "\u001b[0;31mNameError\u001b[0m                                 Traceback (most recent call last)",
      "\u001b[0;32m<ipython-input-1-2e021baae6e5>\u001b[0m in \u001b[0;36m<cell line: 3>\u001b[0;34m()\u001b[0m\n\u001b[1;32m      1\u001b[0m \u001b[0;31m# Save the training data as a CSV file\u001b[0m\u001b[0;34m\u001b[0m\u001b[0;34m\u001b[0m\u001b[0m\n\u001b[1;32m      2\u001b[0m \u001b[0mfile_path\u001b[0m \u001b[0;34m=\u001b[0m \u001b[0;34m\"training_data.csv\"\u001b[0m\u001b[0;34m\u001b[0m\u001b[0;34m\u001b[0m\u001b[0m\n\u001b[0;32m----> 3\u001b[0;31m \u001b[0mtraining_data\u001b[0m\u001b[0;34m.\u001b[0m\u001b[0mto_csv\u001b[0m\u001b[0;34m(\u001b[0m\u001b[0mfile_path\u001b[0m\u001b[0;34m,\u001b[0m \u001b[0mindex\u001b[0m\u001b[0;34m=\u001b[0m\u001b[0;32mFalse\u001b[0m\u001b[0;34m)\u001b[0m\u001b[0;34m\u001b[0m\u001b[0;34m\u001b[0m\u001b[0m\n\u001b[0m\u001b[1;32m      4\u001b[0m \u001b[0;34m\u001b[0m\u001b[0m\n\u001b[1;32m      5\u001b[0m \u001b[0;31m# Provide file for download\u001b[0m\u001b[0;34m\u001b[0m\u001b[0;34m\u001b[0m\u001b[0m\n",
      "\u001b[0;31mNameError\u001b[0m: name 'training_data' is not defined"
     ]
    }
   ],
   "source": [
    "# Save the training data as a CSV file\n",
    "file_path = \"training_data.csv\"\n",
    "training_data.to_csv(file_path, index=False)\n",
    "\n",
    "# Provide file for download\n",
    "from google.colab import files\n",
    "files.download(file_path)\n"
   ]
  },
  {
   "cell_type": "code",
   "execution_count": 27,
   "metadata": {
    "id": "tOAlpPAp_x4H"
   },
   "outputs": [],
   "source": [
    "dataset = Dataset.from_pandas(training_data)\n",
    "dataset = dataset.shuffle(seed = 42)\n",
    "dataset = dataset.train_test_split(test_size=0.2)"
   ]
  },
  {
   "cell_type": "code",
   "execution_count": 28,
   "metadata": {
    "id": "LJAILbp8xgik"
   },
   "outputs": [],
   "source": [
    "train_dataset = dataset[\"train\"]\n",
    "eval_dataset = dataset[\"test\"]"
   ]
  },
  {
   "cell_type": "code",
   "execution_count": null,
   "metadata": {
    "colab": {
     "base_uri": "https://localhost:8080/"
    },
    "id": "ermEwtuDE2Or",
    "outputId": "9063450c-69b3-4ac3-950c-45803ea116d0"
   },
   "outputs": [
    {
     "name": "stdout",
     "output_type": "stream",
     "text": [
      "Dataset({\n",
      "    features: ['Text'],\n",
      "    num_rows: 1420\n",
      "})\n"
     ]
    }
   ],
   "source": [
    "print(train_dataset)"
   ]
  },
  {
   "cell_type": "code",
   "execution_count": null,
   "metadata": {
    "colab": {
     "base_uri": "https://localhost:8080/"
    },
    "id": "jrDc7NedeAFm",
    "outputId": "0848f2fd-081a-4bd3-90d6-fcb060c350f7"
   },
   "outputs": [
    {
     "name": "stdout",
     "output_type": "stream",
     "text": [
      "Dataset({\n",
      "    features: ['Text'],\n",
      "    num_rows: 356\n",
      "})\n"
     ]
    }
   ],
   "source": [
    "print(eval_dataset)"
   ]
  },
  {
   "cell_type": "code",
   "execution_count": null,
   "metadata": {
    "colab": {
     "base_uri": "https://localhost:8080/"
    },
    "id": "bgAaHRvaIvMw",
    "outputId": "7c6975b7-b95c-4559-edf5-be1813d963d6"
   },
   "outputs": [
    {
     "name": "stdout",
     "output_type": "stream",
     "text": [
      "<class 'list'>\n"
     ]
    }
   ],
   "source": [
    "print(type(train_dataset[\"Text\"]))"
   ]
  },
  {
   "cell_type": "markdown",
   "metadata": {
    "id": "mwEUWMW6BH4C"
   },
   "source": [
    "# 4. 모델 fine-tuning"
   ]
  },
  {
   "cell_type": "code",
   "execution_count": 30,
   "metadata": {
    "colab": {
     "base_uri": "https://localhost:8080/",
     "height": 37,
     "referenced_widgets": [
      "5001629c06374a1ab422537a06d485ba",
      "ee0a12546ad34232941115f89684d0d4",
      "ec36fdb51d664c4c921ded184058f458",
      "c3fb0965db334b1192ea4a8804563a72",
      "bfa9ab710e4042558dc131ffb10e40c7",
      "0f693f41e1294ad18671dd64ee46b150",
      "9bb2be47f0eb47339b3f153381e449fa",
      "a003549d442d4f458bb104ae39c829e7",
      "8be925aac0af41dead4b0764e3355839",
      "07fdd8802c0547faa7f09aab27ca443c",
      "68ec4e404df045c4b7b7020df724280c",
      "b6d0eed2d6744853bf6bb0d98040bd9c",
      "6dae851dde624d0dbe1528fd6a31d80a",
      "5344b0417e004e8f8dfacdc4b63d1992",
      "c7f5e348b4214e84a6364adeb8c468bb",
      "b634a338a0f646d2b752788175f54105",
      "f2c659322c63447a8476a47489e72022",
      "632a96d7122e44f7ae6f7c26b068a90a",
      "f992717e73ac4fa4a5bb14b2abece162",
      "18ef3ad007ef4544b0a775e80d508d47"
     ]
    },
    "id": "IutsK2DbBHCM",
    "outputId": "e277749f-1475-4f05-ab80-24b7275f3076"
   },
   "outputs": [
    {
     "data": {
      "application/vnd.jupyter.widget-view+json": {
       "model_id": "5001629c06374a1ab422537a06d485ba",
       "version_major": 2,
       "version_minor": 0
      },
      "text/plain": [
       "VBox(children=(HTML(value='<center> <img\\nsrc=https://huggingface.co/front/assets/huggingface_logo-noborder.sv…"
      ]
     },
     "metadata": {},
     "output_type": "display_data"
    }
   ],
   "source": [
    "notebook_login()"
   ]
  },
  {
   "cell_type": "code",
   "execution_count": 31,
   "metadata": {
    "colab": {
     "base_uri": "https://localhost:8080/",
     "height": 538,
     "referenced_widgets": [
      "4d7ddb2617f54757b8fae06f70873862",
      "ed98d04b2bde4f44af5a43ba867fe4b9",
      "3dc86da445714358baa38ba9676d510d",
      "3efced710d1e4edda3bf9d3f711ee8b8",
      "e56558c7374442f5b4a8690a5ccbdf4d",
      "14e9ecdbc5c14036921eeefbd8277244",
      "9b252772e9d440f8a770e34d0f221ee4",
      "c7dc9586648d44349ccddccb95b2fd3d",
      "3fb63cef656a4f1cb844188b74e76462",
      "a9a7382d150c476bb1057fdead157693",
      "2b40c124b91c4934949c3a3bb8614c44",
      "5435186e27254705ba672fc731286695",
      "db83d1249c7c46e8ae7b1efeab8f1c17",
      "b5cc935a74b54984b01092ef848cbfc5",
      "0cbdaa6611b8486190edfaba75fe91eb",
      "d2c69f9bfd904fb4b12bfdb76099a42a",
      "85260776110e4248825f645cc638fcd4",
      "e4b61405a46b404f9a4fe4e91360e59b",
      "6c291f54d8de48aa9fcf9c54080116ac",
      "c992a72378d14dabbee33fe2533354e2",
      "d6305df9331347e4853f327eef63fc97",
      "4e89ddd763044c7d823819bf2d97e3b7",
      "3476367254f04ffd9bff9fabf58a1365",
      "3c95c8bba5e3432c8bfb669702ffaff9",
      "22032563a1f644748b665a40ef257e4d",
      "7a2d52dc1d5343bda9bde167aad57526",
      "3beaa375278647de84a7245521f7f4de",
      "81842fb4f0f04fe18963e4c0b75be248",
      "a30ae1165ae34c52a092583cb24bbb24",
      "214cf29d4d374d558853ee6afa49bae9",
      "4d2c1de4e1724a218a8550f009ac3981",
      "dc024de91f7747d39f46523db9091fa4",
      "932faa1ce2e94bd4aa595ef8aab616c1",
      "0aac7c2f43e941d5801789d0e1b57714",
      "80c9316a5e2e4fa5bfa592b55e2de8fa",
      "d0e0330b889b47bbb63881b562576cb9",
      "e462c3a40d004d5f870c0c1aa38b93e3",
      "40862efba34449f9b1549ef1d58d2ace",
      "0a223da5e1b042cbbba981ef4adda46f",
      "42128219ccb14bbb84ab6020a2e052c3",
      "9c54c55c2da848c4b806a833e103e0d6",
      "6eac2d8fd5e242d48c83041e0741e37f",
      "e4ee21b03e6c41f1b4b4de44514e2f7c",
      "8dc2113614e44944bd8d7b0ece765152",
      "5d1624a9820a49e485ef85826b12a79d",
      "5969d35e6a1f492cb5fb68aae8a60093",
      "5c8264c21c1e489f997882fd70d26cba",
      "6ce12852187b4ddc96082c8061ab7c87",
      "38deddfb786d4f6984fbea9c53f80466",
      "412ebbe5fcec4953ac5e23ac584f1291",
      "9411858cf8414b9b867ee0d8da786ef8",
      "663afe8647d44695b56417770e611982",
      "e64bfe066a9043709e19d1f7b19accc6",
      "9229349f883a4cf9b417c980e29bd0cd",
      "62b7734bc83541d4acd4493d3c8951cb",
      "97743b0a7b7b4ffba447276b9b8010f2",
      "a614463c96ea4f9b9928e49cf7099a65",
      "525b8c1b8997418cbcd492e04e42fce1",
      "b8f3bae5988842f386ce494187250cd2",
      "0768b7438c474c33a0fb9b3b46a55fd8",
      "38755f12212d4844bcd1eed6ecdf125c",
      "45b3e03da9544e078be1386c12f341e9",
      "575d2384d8894272a1724a1a3b1f74e8",
      "2c00f220bc404ab7b11005b2ce5b6e4d",
      "881573197703483a88177244930e9523",
      "2e14d20f26684faa87017bcfacb717ef",
      "2aafe6a67e9e4c17919d634b31b3a49e",
      "269de135880446fa815629dde1009329",
      "0d4a4ff11ead4ad880feffcac87a48ee",
      "e8cbe305dfd640e8923a5dd2b07bfcae",
      "955e83c0950641219ae707bf297fe4d0",
      "4379a483d7d24fbc92ab546472ecb925",
      "0d79baac85b7429594e936dcd1b4e241",
      "7386228b817b471a9318250fab6324b4",
      "3a9601f773f3463492829a90f76d51ba",
      "a80063dc192d4a84a97d6cd5f84f1160",
      "b6a3a78f6bfd41ef950d10d852ef56e4",
      "93cbe84823784e8bb12ed36592d5c998",
      "4a065aefa53644289c3428d7aa435369",
      "fc0a1d48843148d38eb4496bddc729cc",
      "76dc385361a8442aa550bb7138e65806",
      "79cfd15cca1d46a58b0e274387f67ed4",
      "390cb049025e4d3f9e8b54923ec05f21",
      "04a696621d824254941311ed9feacc5a",
      "d0e5364bcc6541ccbcd739216ce1e825",
      "eb6f02a235a747fda652d4f1759a3278",
      "94d13a4230a046a0b517daa8a72b9e5b",
      "79f40171a3924fb9ad727e3e37a34704",
      "ffcd3decc36a4e96ac3e2aef08f8398f",
      "03277af47ed744449e1bac88efa74f20",
      "8cd63b2ecf7d4171843a5cf9c2c259b7",
      "39d48455ee7c47dd8c97ed6fe7ce9e6c",
      "8a46906e7d004b408c42bfbfada87d30",
      "087ba08119af4b4097320bf7c4ae6ee5",
      "b030e05fdb344578bda97b5d489e3e4e",
      "6b1aa91f618e46b890d97306833a14ff",
      "1b1eb018692e44b98e6b1b2e343fe6ed",
      "378bc77336f04e4d88a9a66ef763b54c",
      "d50d6901cd1340e6ba238161e1a01b8e",
      "a4b17948dd0a41979442e283ea52f99f",
      "b68288c01b6e418d91683d4b681ea832",
      "5c1a4a31775746cab4eace957cdbf4c8",
      "15e59ba8ff7f428cb5f11840633697ba",
      "60b1731007c7456c8b509d87ff12318c",
      "07115f359a7c463d9c1e20e1cdc8065f",
      "c28cba47f33f46c5a1bb5fa7854ff43e",
      "6c01355c3dcd41de8a90959a8d357e0d",
      "9ab4775315214a51aaef8f14d06f6557",
      "aa3438ff46214cbfac162d6a1e35a0d0",
      "282a56215f934d8b90c5a2be4065a6ba",
      "decadcd1c5f84443a1aabc3ff23db51b",
      "b333c79cbe1c4cd4a11da518906c68da",
      "487998116ad24c0386c268d18b2e2977",
      "bd9f5e1319264980ae429ad902ae7967",
      "3b88ba1b443f4d4cb27619c660c2b38b",
      "776b5f54418149298f5073a47b643608",
      "1325f12b40984387bc788e009553a8db",
      "150646de64b44f88a789f54136d76589",
      "196c7759b7564058a634392c6a4510c8",
      "074ed1d681414747b37cdf1396dfc608",
      "8f8e950342ea4adaa4f5021eb250fdb1"
     ]
    },
    "id": "wZBqBCu6mJAX",
    "outputId": "1ce4d4c6-b55d-4406-8648-04f75a75e26a"
   },
   "outputs": [
    {
     "name": "stderr",
     "output_type": "stream",
     "text": [
      "/usr/local/lib/python3.10/dist-packages/huggingface_hub/file_download.py:797: FutureWarning: `resume_download` is deprecated and will be removed in version 1.0.0. Downloads always resume when possible. If you want to force a new download, use `force_download=True`.\n",
      "  warnings.warn(\n",
      "/usr/local/lib/python3.10/dist-packages/huggingface_hub/utils/_auth.py:94: UserWarning: \n",
      "The secret `HF_TOKEN` does not exist in your Colab secrets.\n",
      "To authenticate with the Hugging Face Hub, create a token in your settings tab (https://huggingface.co/settings/tokens), set it as secret in your Google Colab and restart your session.\n",
      "You will be able to reuse this secret in all of your notebooks.\n",
      "Please note that authentication is recommended but still optional to access public models or datasets.\n",
      "  warnings.warn(\n"
     ]
    },
    {
     "data": {
      "application/vnd.jupyter.widget-view+json": {
       "model_id": "4d7ddb2617f54757b8fae06f70873862",
       "version_major": 2,
       "version_minor": 0
      },
      "text/plain": [
       "tokenizer_config.json:   0%|          | 0.00/34.2k [00:00<?, ?B/s]"
      ]
     },
     "metadata": {},
     "output_type": "display_data"
    },
    {
     "data": {
      "application/vnd.jupyter.widget-view+json": {
       "model_id": "5435186e27254705ba672fc731286695",
       "version_major": 2,
       "version_minor": 0
      },
      "text/plain": [
       "tokenizer.model:   0%|          | 0.00/4.24M [00:00<?, ?B/s]"
      ]
     },
     "metadata": {},
     "output_type": "display_data"
    },
    {
     "data": {
      "application/vnd.jupyter.widget-view+json": {
       "model_id": "3476367254f04ffd9bff9fabf58a1365",
       "version_major": 2,
       "version_minor": 0
      },
      "text/plain": [
       "tokenizer.json:   0%|          | 0.00/17.5M [00:00<?, ?B/s]"
      ]
     },
     "metadata": {},
     "output_type": "display_data"
    },
    {
     "data": {
      "application/vnd.jupyter.widget-view+json": {
       "model_id": "0aac7c2f43e941d5801789d0e1b57714",
       "version_major": 2,
       "version_minor": 0
      },
      "text/plain": [
       "special_tokens_map.json:   0%|          | 0.00/636 [00:00<?, ?B/s]"
      ]
     },
     "metadata": {},
     "output_type": "display_data"
    },
    {
     "data": {
      "application/vnd.jupyter.widget-view+json": {
       "model_id": "5d1624a9820a49e485ef85826b12a79d",
       "version_major": 2,
       "version_minor": 0
      },
      "text/plain": [
       "config.json:   0%|          | 0.00/627 [00:00<?, ?B/s]"
      ]
     },
     "metadata": {},
     "output_type": "display_data"
    },
    {
     "data": {
      "application/vnd.jupyter.widget-view+json": {
       "model_id": "97743b0a7b7b4ffba447276b9b8010f2",
       "version_major": 2,
       "version_minor": 0
      },
      "text/plain": [
       "model.safetensors.index.json:   0%|          | 0.00/13.5k [00:00<?, ?B/s]"
      ]
     },
     "metadata": {},
     "output_type": "display_data"
    },
    {
     "data": {
      "application/vnd.jupyter.widget-view+json": {
       "model_id": "2aafe6a67e9e4c17919d634b31b3a49e",
       "version_major": 2,
       "version_minor": 0
      },
      "text/plain": [
       "Downloading shards:   0%|          | 0/2 [00:00<?, ?it/s]"
      ]
     },
     "metadata": {},
     "output_type": "display_data"
    },
    {
     "data": {
      "application/vnd.jupyter.widget-view+json": {
       "model_id": "93cbe84823784e8bb12ed36592d5c998",
       "version_major": 2,
       "version_minor": 0
      },
      "text/plain": [
       "model-00001-of-00002.safetensors:   0%|          | 0.00/4.95G [00:00<?, ?B/s]"
      ]
     },
     "metadata": {},
     "output_type": "display_data"
    },
    {
     "data": {
      "application/vnd.jupyter.widget-view+json": {
       "model_id": "ffcd3decc36a4e96ac3e2aef08f8398f",
       "version_major": 2,
       "version_minor": 0
      },
      "text/plain": [
       "model-00002-of-00002.safetensors:   0%|          | 0.00/67.1M [00:00<?, ?B/s]"
      ]
     },
     "metadata": {},
     "output_type": "display_data"
    },
    {
     "data": {
      "application/vnd.jupyter.widget-view+json": {
       "model_id": "a4b17948dd0a41979442e283ea52f99f",
       "version_major": 2,
       "version_minor": 0
      },
      "text/plain": [
       "Loading checkpoint shards:   0%|          | 0/2 [00:00<?, ?it/s]"
      ]
     },
     "metadata": {},
     "output_type": "display_data"
    },
    {
     "data": {
      "application/vnd.jupyter.widget-view+json": {
       "model_id": "decadcd1c5f84443a1aabc3ff23db51b",
       "version_major": 2,
       "version_minor": 0
      },
      "text/plain": [
       "generation_config.json:   0%|          | 0.00/137 [00:00<?, ?B/s]"
      ]
     },
     "metadata": {},
     "output_type": "display_data"
    }
   ],
   "source": [
    "# 모델과 토크나이저 로드\n",
    "from peft import prepare_model_for_kbit_training\n",
    "\n",
    "bnb_config = BitsAndBytesConfig(\n",
    "    load_in_4bit=True,\n",
    "    bnb_4bit_quant_type=\"nf4\",\n",
    "    bnb_4bit_use_double_quant=True,\n",
    "    bnb_4bit_compute_dtype=torch.float16,\n",
    ")\n",
    "base_model = \"google/gemma-2b-it\"\n",
    "tokenizer = AutoTokenizer.from_pretrained(base_model, trust_remote_code=True)\n",
    "tokenizer.pad_token = tokenizer.eos_token\n",
    "\n",
    "model = AutoModelForCausalLM.from_pretrained(\n",
    "    base_model,\n",
    "    quantization_config=bnb_config,\n",
    "    device_map=\"balanced_low_0\",\n",
    "    offload_folder=\"offload\",\n",
    "    offload_state_dict=True,\n",
    "    trust_remote_code=True,\n",
    "    torch_dtype=torch.float16,\n",
    ")\n",
    "model.gradient_checkpointing_enable()\n",
    "model = prepare_model_for_kbit_training(model)\n",
    "\n",
    "# LoRA 설정 및 적용\n",
    "peft_config = LoraConfig(\n",
    "    r=16,\n",
    "    lora_alpha=32,\n",
    "    lora_dropout=0.1,\n",
    "    target_modules=[\"q_proj\", \"v_proj\"],\n",
    "    bias=\"none\",\n",
    "    task_type=\"CAUSAL_LM\",\n",
    ")\n",
    "model = get_peft_model(model, peft_config)"
   ]
  },
  {
   "cell_type": "code",
   "execution_count": 32,
   "metadata": {
    "id": "KW3jHK9gt00V"
   },
   "outputs": [],
   "source": [
    "def preprocess_function(examples):\n",
    "    full_texts = examples[\"Text\"]\n",
    "    tokenized = tokenizer(\n",
    "        full_texts,\n",
    "        truncation=True,\n",
    "        padding=\"max_length\",\n",
    "        max_length=256,  # 필요에 따라 max_length를 조정\n",
    "    )\n",
    "    labels = tokenized[\"input_ids\"].copy()\n",
    "    labels = [\n",
    "        [-100 if mask == 0 else token for mask, token in zip(attention, label)]\n",
    "        for attention, label in zip(tokenized[\"attention_mask\"], labels)\n",
    "    ]\n",
    "    return {\n",
    "        \"input_ids\": tokenized[\"input_ids\"],\n",
    "        \"attention_mask\": tokenized[\"attention_mask\"],\n",
    "        \"labels\": labels,\n",
    "    }"
   ]
  },
  {
   "cell_type": "code",
   "execution_count": 33,
   "metadata": {
    "colab": {
     "base_uri": "https://localhost:8080/",
     "height": 101,
     "referenced_widgets": [
      "b2738c328db84d108cef9b978137f4df",
      "907212bb4a7f4ff5a6043cbb8ecc1635",
      "b084192cfda940c5b603b42410da2aee",
      "fe6ebf5c5b5749c5b02a8ab4f19f9986",
      "093874fda8194f87925144564bb69be0",
      "4e6c8cc4a95246da8c29983d8c4a71f3",
      "49b2628f1cdd4078b27fc49afa587cb3",
      "8e8417a9a84c414ea51fd591e516e7dc",
      "c2d5d7f3c01f42c49fbf406155dd1912",
      "4b8a0b48271e461ea179ffe3b9582964",
      "95d2c155162142679914969fec49ba80",
      "909adc5b1bcd40878c6905b6081ffa0d",
      "5f8727e5da1147d89079bfbdbf32a61a",
      "362e13df5b8345949bac0ac255aceea9",
      "a9abc0dc02fa44329e354001af9da0d6",
      "16663d992e3c4bcea130aa509e343fd5",
      "5d7b63dc14ce4c9e92873dffd3277905",
      "3a65b6d6bcdd4c2db4ca3c9f6184c132",
      "54e188a60ec6469fbe70c802b2bdabd7",
      "f326e4ed6002488fb72dd6c1d370c7d9",
      "7120186f5b5f4a70a574faaae9ec8ae3",
      "b76a867879b84bf28b8323a848e0b5f5"
     ]
    },
    "id": "r73VUo6TCubQ",
    "outputId": "9208666d-b52a-4bd3-8aad-e1b5e06abbb2"
   },
   "outputs": [
    {
     "data": {
      "application/vnd.jupyter.widget-view+json": {
       "model_id": "b2738c328db84d108cef9b978137f4df",
       "version_major": 2,
       "version_minor": 0
      },
      "text/plain": [
       "Map:   0%|          | 0/1405 [00:00<?, ? examples/s]"
      ]
     },
     "metadata": {},
     "output_type": "display_data"
    },
    {
     "data": {
      "application/vnd.jupyter.widget-view+json": {
       "model_id": "909adc5b1bcd40878c6905b6081ffa0d",
       "version_major": 2,
       "version_minor": 0
      },
      "text/plain": [
       "Map:   0%|          | 0/352 [00:00<?, ? examples/s]"
      ]
     },
     "metadata": {},
     "output_type": "display_data"
    }
   ],
   "source": [
    "train_dataset = train_dataset.map(preprocess_function, batched=True)\n",
    "eval_dataset = eval_dataset.map(preprocess_function, batched=True)"
   ]
  },
  {
   "cell_type": "code",
   "execution_count": null,
   "metadata": {
    "colab": {
     "base_uri": "https://localhost:8080/"
    },
    "id": "VBYuMxk-L_Ky",
    "outputId": "4bcab32b-8960-4932-f382-f95f12d0184b"
   },
   "outputs": [
    {
     "name": "stdout",
     "output_type": "stream",
     "text": [
      "Dataset({\n",
      "    features: ['Text', 'input_ids', 'attention_mask', 'labels'],\n",
      "    num_rows: 1254\n",
      "})\n"
     ]
    }
   ],
   "source": [
    "print(train_dataset)"
   ]
  },
  {
   "cell_type": "code",
   "execution_count": 34,
   "metadata": {
    "id": "9cgKMocvH87P"
   },
   "outputs": [],
   "source": [
    "# 학습 설정\n",
    "training_args = TrainingArguments(\n",
    "    output_dir=\"./gemma_game_recommendation\",  # 모델 저장 경로\n",
    "    evaluation_strategy=\"steps\",              # 정기적으로 평가 수행\n",
    "    eval_steps=20,                           # 평가 주기 (10에서 100으로 증가)\n",
    "    logging_steps=20,                         # 로그 기록 주기 (10에서 50으로 증가)\n",
    "    save_steps=20,                           # 모델 저장 주기 (10에서 100으로 증가)\n",
    "    save_total_limit=3,                       # 저장할 체크포인트 개수 제한\n",
    "    num_train_epochs=8,                       # 학습 epoch 수 (3에서 5로 증가)\n",
    "    per_device_train_batch_size=4,            # 학습 배치 크기 (1에서 4로 증가)\n",
    "    per_device_eval_batch_size=4,             # 평가 배치 크기 (1에서 4로 증가)\n",
    "    gradient_accumulation_steps=8,\n",
    "    lr_scheduler_type='linear',             # 그래디언트 누적 단계 (4에서 8로 증가)\n",
    "    learning_rate=5e-4,                       # 학습률 (5e-4에서 2e-5로 감소)\n",
    "    warmup_steps=100,                         # 학습률 워밍업 단계 추가\n",
    "    weight_decay=0.01,\n",
    "    fp16=False,  # 혼합 정밀도 비활성화\n",
    "    optim=\"adamw_torch\",  # 옵티마이저 변경\n",
    "    load_best_model_at_end=True,\n",
    "    metric_for_best_model=\"eval_loss\",\n",
    "    greater_is_better=False,             # loss는 낮을수록 좋음\n",
    "                     # 로그 저장 위치 (none: Colab 전용)\n",
    ")\n"
   ]
  },
  {
   "cell_type": "code",
   "execution_count": 35,
   "metadata": {
    "id": "Ig4b3CeiIFRg"
   },
   "outputs": [],
   "source": [
    "data_collator = DataCollatorWithPadding(tokenizer=tokenizer)\n",
    "trainer = Trainer(\n",
    "    model=model,\n",
    "    args=training_args,\n",
    "    train_dataset=train_dataset,\n",
    "    eval_dataset=eval_dataset,\n",
    "    tokenizer=tokenizer,\n",
    "    data_collator=data_collator,\n",
    ")"
   ]
  },
  {
   "cell_type": "code",
   "execution_count": 36,
   "metadata": {
    "colab": {
     "base_uri": "https://localhost:8080/",
     "height": 1000
    },
    "id": "X471WHSbII-6",
    "outputId": "2e79432a-0396-4e50-ab74-819cb6dc5354"
   },
   "outputs": [
    {
     "name": "stderr",
     "output_type": "stream",
     "text": [
      "\u001b[34m\u001b[1mwandb\u001b[0m: Using wandb-core as the SDK backend.  Please refer to https://wandb.me/wandb-core for more information.\n"
     ]
    },
    {
     "data": {
      "application/javascript": [
       "\n",
       "        window._wandbApiKey = new Promise((resolve, reject) => {\n",
       "            function loadScript(url) {\n",
       "            return new Promise(function(resolve, reject) {\n",
       "                let newScript = document.createElement(\"script\");\n",
       "                newScript.onerror = reject;\n",
       "                newScript.onload = resolve;\n",
       "                document.body.appendChild(newScript);\n",
       "                newScript.src = url;\n",
       "            });\n",
       "            }\n",
       "            loadScript(\"https://cdn.jsdelivr.net/npm/postmate/build/postmate.min.js\").then(() => {\n",
       "            const iframe = document.createElement('iframe')\n",
       "            iframe.style.cssText = \"width:0;height:0;border:none\"\n",
       "            document.body.appendChild(iframe)\n",
       "            const handshake = new Postmate({\n",
       "                container: iframe,\n",
       "                url: 'https://wandb.ai/authorize'\n",
       "            });\n",
       "            const timeout = setTimeout(() => reject(\"Couldn't auto authenticate\"), 5000)\n",
       "            handshake.then(function(child) {\n",
       "                child.on('authorize', data => {\n",
       "                    clearTimeout(timeout)\n",
       "                    resolve(data)\n",
       "                });\n",
       "            });\n",
       "            })\n",
       "        });\n",
       "    "
      ],
      "text/plain": [
       "<IPython.core.display.Javascript object>"
      ]
     },
     "metadata": {},
     "output_type": "display_data"
    },
    {
     "name": "stderr",
     "output_type": "stream",
     "text": [
      "\u001b[34m\u001b[1mwandb\u001b[0m: Logging into wandb.ai. (Learn how to deploy a W&B server locally: https://wandb.me/wandb-server)\n",
      "\u001b[34m\u001b[1mwandb\u001b[0m: You can find your API key in your browser here: https://wandb.ai/authorize\n",
      "wandb: Paste an API key from your profile and hit enter, or press ctrl+c to quit:"
     ]
    },
    {
     "name": "stdout",
     "output_type": "stream",
     "text": [
      " ··········\n"
     ]
    },
    {
     "name": "stderr",
     "output_type": "stream",
     "text": [
      "\u001b[34m\u001b[1mwandb\u001b[0m: Appending key for api.wandb.ai to your netrc file: /root/.netrc\n"
     ]
    },
    {
     "data": {
      "text/html": [
       "Tracking run with wandb version 0.18.7"
      ],
      "text/plain": [
       "<IPython.core.display.HTML object>"
      ]
     },
     "metadata": {},
     "output_type": "display_data"
    },
    {
     "data": {
      "text/html": [
       "Run data is saved locally in <code>/content/wandb/run-20241201_042720-geipb6n2</code>"
      ],
      "text/plain": [
       "<IPython.core.display.HTML object>"
      ]
     },
     "metadata": {},
     "output_type": "display_data"
    },
    {
     "data": {
      "text/html": [
       "Syncing run <strong><a href='https://wandb.ai/chanjingim12-sungshin/huggingface/runs/geipb6n2' target=\"_blank\">prime-blaze-37</a></strong> to <a href='https://wandb.ai/chanjingim12-sungshin/huggingface' target=\"_blank\">Weights & Biases</a> (<a href='https://wandb.me/developer-guide' target=\"_blank\">docs</a>)<br/>"
      ],
      "text/plain": [
       "<IPython.core.display.HTML object>"
      ]
     },
     "metadata": {},
     "output_type": "display_data"
    },
    {
     "data": {
      "text/html": [
       " View project at <a href='https://wandb.ai/chanjingim12-sungshin/huggingface' target=\"_blank\">https://wandb.ai/chanjingim12-sungshin/huggingface</a>"
      ],
      "text/plain": [
       "<IPython.core.display.HTML object>"
      ]
     },
     "metadata": {},
     "output_type": "display_data"
    },
    {
     "data": {
      "text/html": [
       " View run at <a href='https://wandb.ai/chanjingim12-sungshin/huggingface/runs/geipb6n2' target=\"_blank\">https://wandb.ai/chanjingim12-sungshin/huggingface/runs/geipb6n2</a>"
      ],
      "text/plain": [
       "<IPython.core.display.HTML object>"
      ]
     },
     "metadata": {},
     "output_type": "display_data"
    },
    {
     "name": "stderr",
     "output_type": "stream",
     "text": [
      "`use_cache=True` is incompatible with gradient checkpointing. Setting `use_cache=False`.\n",
      "/usr/local/lib/python3.10/dist-packages/torch/_dynamo/eval_frame.py:632: UserWarning: torch.utils.checkpoint: the use_reentrant parameter should be passed explicitly. In version 2.5 we will raise an exception if use_reentrant is not passed. use_reentrant=False is recommended, but if you need to preserve the current default behavior, you can pass use_reentrant=True. Refer to docs for more details on the differences between the two variants.\n",
      "  return fn(*args, **kwargs)\n"
     ]
    },
    {
     "data": {
      "text/html": [
       "\n",
       "    <div>\n",
       "      \n",
       "      <progress value='352' max='352' style='width:300px; height:20px; vertical-align: middle;'></progress>\n",
       "      [352/352 3:57:01, Epoch 8/8]\n",
       "    </div>\n",
       "    <table border=\"1\" class=\"dataframe\">\n",
       "  <thead>\n",
       " <tr style=\"text-align: left;\">\n",
       "      <th>Step</th>\n",
       "      <th>Training Loss</th>\n",
       "      <th>Validation Loss</th>\n",
       "    </tr>\n",
       "  </thead>\n",
       "  <tbody>\n",
       "    <tr>\n",
       "      <td>20</td>\n",
       "      <td>4.579100</td>\n",
       "      <td>4.121778</td>\n",
       "    </tr>\n",
       "    <tr>\n",
       "      <td>40</td>\n",
       "      <td>3.787400</td>\n",
       "      <td>3.485501</td>\n",
       "    </tr>\n",
       "    <tr>\n",
       "      <td>60</td>\n",
       "      <td>3.378100</td>\n",
       "      <td>3.272675</td>\n",
       "    </tr>\n",
       "    <tr>\n",
       "      <td>80</td>\n",
       "      <td>3.176100</td>\n",
       "      <td>3.164208</td>\n",
       "    </tr>\n",
       "    <tr>\n",
       "      <td>100</td>\n",
       "      <td>3.121200</td>\n",
       "      <td>3.114666</td>\n",
       "    </tr>\n",
       "    <tr>\n",
       "      <td>120</td>\n",
       "      <td>3.004300</td>\n",
       "      <td>3.060059</td>\n",
       "    </tr>\n",
       "    <tr>\n",
       "      <td>140</td>\n",
       "      <td>2.928400</td>\n",
       "      <td>3.026854</td>\n",
       "    </tr>\n",
       "    <tr>\n",
       "      <td>160</td>\n",
       "      <td>2.858100</td>\n",
       "      <td>2.991742</td>\n",
       "    </tr>\n",
       "    <tr>\n",
       "      <td>180</td>\n",
       "      <td>2.772300</td>\n",
       "      <td>2.965851</td>\n",
       "    </tr>\n",
       "    <tr>\n",
       "      <td>200</td>\n",
       "      <td>2.710400</td>\n",
       "      <td>2.936441</td>\n",
       "    </tr>\n",
       "    <tr>\n",
       "      <td>220</td>\n",
       "      <td>2.632000</td>\n",
       "      <td>2.904553</td>\n",
       "    </tr>\n",
       "    <tr>\n",
       "      <td>240</td>\n",
       "      <td>2.551700</td>\n",
       "      <td>2.896550</td>\n",
       "    </tr>\n",
       "    <tr>\n",
       "      <td>260</td>\n",
       "      <td>2.534400</td>\n",
       "      <td>2.878437</td>\n",
       "    </tr>\n",
       "    <tr>\n",
       "      <td>280</td>\n",
       "      <td>2.406900</td>\n",
       "      <td>2.872231</td>\n",
       "    </tr>\n",
       "    <tr>\n",
       "      <td>300</td>\n",
       "      <td>2.462100</td>\n",
       "      <td>2.855119</td>\n",
       "    </tr>\n",
       "    <tr>\n",
       "      <td>320</td>\n",
       "      <td>2.406400</td>\n",
       "      <td>2.853703</td>\n",
       "    </tr>\n",
       "    <tr>\n",
       "      <td>340</td>\n",
       "      <td>2.359400</td>\n",
       "      <td>2.847704</td>\n",
       "    </tr>\n",
       "  </tbody>\n",
       "</table><p>"
      ],
      "text/plain": [
       "<IPython.core.display.HTML object>"
      ]
     },
     "metadata": {},
     "output_type": "display_data"
    },
    {
     "name": "stderr",
     "output_type": "stream",
     "text": [
      "/usr/local/lib/python3.10/dist-packages/huggingface_hub/file_download.py:797: FutureWarning: `resume_download` is deprecated and will be removed in version 1.0.0. Downloads always resume when possible. If you want to force a new download, use `force_download=True`.\n",
      "  warnings.warn(\n",
      "/usr/local/lib/python3.10/dist-packages/torch/_dynamo/eval_frame.py:632: UserWarning: torch.utils.checkpoint: the use_reentrant parameter should be passed explicitly. In version 2.5 we will raise an exception if use_reentrant is not passed. use_reentrant=False is recommended, but if you need to preserve the current default behavior, you can pass use_reentrant=True. Refer to docs for more details on the differences between the two variants.\n",
      "  return fn(*args, **kwargs)\n",
      "/usr/local/lib/python3.10/dist-packages/huggingface_hub/file_download.py:797: FutureWarning: `resume_download` is deprecated and will be removed in version 1.0.0. Downloads always resume when possible. If you want to force a new download, use `force_download=True`.\n",
      "  warnings.warn(\n",
      "/usr/local/lib/python3.10/dist-packages/torch/_dynamo/eval_frame.py:632: UserWarning: torch.utils.checkpoint: the use_reentrant parameter should be passed explicitly. In version 2.5 we will raise an exception if use_reentrant is not passed. use_reentrant=False is recommended, but if you need to preserve the current default behavior, you can pass use_reentrant=True. Refer to docs for more details on the differences between the two variants.\n",
      "  return fn(*args, **kwargs)\n",
      "/usr/local/lib/python3.10/dist-packages/huggingface_hub/file_download.py:797: FutureWarning: `resume_download` is deprecated and will be removed in version 1.0.0. Downloads always resume when possible. If you want to force a new download, use `force_download=True`.\n",
      "  warnings.warn(\n",
      "/usr/local/lib/python3.10/dist-packages/torch/_dynamo/eval_frame.py:632: UserWarning: torch.utils.checkpoint: the use_reentrant parameter should be passed explicitly. In version 2.5 we will raise an exception if use_reentrant is not passed. use_reentrant=False is recommended, but if you need to preserve the current default behavior, you can pass use_reentrant=True. Refer to docs for more details on the differences between the two variants.\n",
      "  return fn(*args, **kwargs)\n",
      "/usr/local/lib/python3.10/dist-packages/huggingface_hub/file_download.py:797: FutureWarning: `resume_download` is deprecated and will be removed in version 1.0.0. Downloads always resume when possible. If you want to force a new download, use `force_download=True`.\n",
      "  warnings.warn(\n",
      "/usr/local/lib/python3.10/dist-packages/torch/_dynamo/eval_frame.py:632: UserWarning: torch.utils.checkpoint: the use_reentrant parameter should be passed explicitly. In version 2.5 we will raise an exception if use_reentrant is not passed. use_reentrant=False is recommended, but if you need to preserve the current default behavior, you can pass use_reentrant=True. Refer to docs for more details on the differences between the two variants.\n",
      "  return fn(*args, **kwargs)\n",
      "/usr/local/lib/python3.10/dist-packages/huggingface_hub/file_download.py:797: FutureWarning: `resume_download` is deprecated and will be removed in version 1.0.0. Downloads always resume when possible. If you want to force a new download, use `force_download=True`.\n",
      "  warnings.warn(\n",
      "/usr/local/lib/python3.10/dist-packages/torch/_dynamo/eval_frame.py:632: UserWarning: torch.utils.checkpoint: the use_reentrant parameter should be passed explicitly. In version 2.5 we will raise an exception if use_reentrant is not passed. use_reentrant=False is recommended, but if you need to preserve the current default behavior, you can pass use_reentrant=True. Refer to docs for more details on the differences between the two variants.\n",
      "  return fn(*args, **kwargs)\n",
      "/usr/local/lib/python3.10/dist-packages/huggingface_hub/file_download.py:797: FutureWarning: `resume_download` is deprecated and will be removed in version 1.0.0. Downloads always resume when possible. If you want to force a new download, use `force_download=True`.\n",
      "  warnings.warn(\n",
      "/usr/local/lib/python3.10/dist-packages/torch/_dynamo/eval_frame.py:632: UserWarning: torch.utils.checkpoint: the use_reentrant parameter should be passed explicitly. In version 2.5 we will raise an exception if use_reentrant is not passed. use_reentrant=False is recommended, but if you need to preserve the current default behavior, you can pass use_reentrant=True. Refer to docs for more details on the differences between the two variants.\n",
      "  return fn(*args, **kwargs)\n",
      "/usr/local/lib/python3.10/dist-packages/huggingface_hub/file_download.py:797: FutureWarning: `resume_download` is deprecated and will be removed in version 1.0.0. Downloads always resume when possible. If you want to force a new download, use `force_download=True`.\n",
      "  warnings.warn(\n",
      "/usr/local/lib/python3.10/dist-packages/torch/_dynamo/eval_frame.py:632: UserWarning: torch.utils.checkpoint: the use_reentrant parameter should be passed explicitly. In version 2.5 we will raise an exception if use_reentrant is not passed. use_reentrant=False is recommended, but if you need to preserve the current default behavior, you can pass use_reentrant=True. Refer to docs for more details on the differences between the two variants.\n",
      "  return fn(*args, **kwargs)\n",
      "/usr/local/lib/python3.10/dist-packages/huggingface_hub/file_download.py:797: FutureWarning: `resume_download` is deprecated and will be removed in version 1.0.0. Downloads always resume when possible. If you want to force a new download, use `force_download=True`.\n",
      "  warnings.warn(\n",
      "/usr/local/lib/python3.10/dist-packages/torch/_dynamo/eval_frame.py:632: UserWarning: torch.utils.checkpoint: the use_reentrant parameter should be passed explicitly. In version 2.5 we will raise an exception if use_reentrant is not passed. use_reentrant=False is recommended, but if you need to preserve the current default behavior, you can pass use_reentrant=True. Refer to docs for more details on the differences between the two variants.\n",
      "  return fn(*args, **kwargs)\n",
      "/usr/local/lib/python3.10/dist-packages/huggingface_hub/file_download.py:797: FutureWarning: `resume_download` is deprecated and will be removed in version 1.0.0. Downloads always resume when possible. If you want to force a new download, use `force_download=True`.\n",
      "  warnings.warn(\n",
      "/usr/local/lib/python3.10/dist-packages/torch/_dynamo/eval_frame.py:632: UserWarning: torch.utils.checkpoint: the use_reentrant parameter should be passed explicitly. In version 2.5 we will raise an exception if use_reentrant is not passed. use_reentrant=False is recommended, but if you need to preserve the current default behavior, you can pass use_reentrant=True. Refer to docs for more details on the differences between the two variants.\n",
      "  return fn(*args, **kwargs)\n",
      "/usr/local/lib/python3.10/dist-packages/huggingface_hub/file_download.py:797: FutureWarning: `resume_download` is deprecated and will be removed in version 1.0.0. Downloads always resume when possible. If you want to force a new download, use `force_download=True`.\n",
      "  warnings.warn(\n",
      "/usr/local/lib/python3.10/dist-packages/torch/_dynamo/eval_frame.py:632: UserWarning: torch.utils.checkpoint: the use_reentrant parameter should be passed explicitly. In version 2.5 we will raise an exception if use_reentrant is not passed. use_reentrant=False is recommended, but if you need to preserve the current default behavior, you can pass use_reentrant=True. Refer to docs for more details on the differences between the two variants.\n",
      "  return fn(*args, **kwargs)\n",
      "/usr/local/lib/python3.10/dist-packages/huggingface_hub/file_download.py:797: FutureWarning: `resume_download` is deprecated and will be removed in version 1.0.0. Downloads always resume when possible. If you want to force a new download, use `force_download=True`.\n",
      "  warnings.warn(\n",
      "/usr/local/lib/python3.10/dist-packages/torch/_dynamo/eval_frame.py:632: UserWarning: torch.utils.checkpoint: the use_reentrant parameter should be passed explicitly. In version 2.5 we will raise an exception if use_reentrant is not passed. use_reentrant=False is recommended, but if you need to preserve the current default behavior, you can pass use_reentrant=True. Refer to docs for more details on the differences between the two variants.\n",
      "  return fn(*args, **kwargs)\n",
      "/usr/local/lib/python3.10/dist-packages/huggingface_hub/file_download.py:797: FutureWarning: `resume_download` is deprecated and will be removed in version 1.0.0. Downloads always resume when possible. If you want to force a new download, use `force_download=True`.\n",
      "  warnings.warn(\n",
      "/usr/local/lib/python3.10/dist-packages/torch/_dynamo/eval_frame.py:632: UserWarning: torch.utils.checkpoint: the use_reentrant parameter should be passed explicitly. In version 2.5 we will raise an exception if use_reentrant is not passed. use_reentrant=False is recommended, but if you need to preserve the current default behavior, you can pass use_reentrant=True. Refer to docs for more details on the differences between the two variants.\n",
      "  return fn(*args, **kwargs)\n",
      "/usr/local/lib/python3.10/dist-packages/huggingface_hub/file_download.py:797: FutureWarning: `resume_download` is deprecated and will be removed in version 1.0.0. Downloads always resume when possible. If you want to force a new download, use `force_download=True`.\n",
      "  warnings.warn(\n",
      "/usr/local/lib/python3.10/dist-packages/torch/_dynamo/eval_frame.py:632: UserWarning: torch.utils.checkpoint: the use_reentrant parameter should be passed explicitly. In version 2.5 we will raise an exception if use_reentrant is not passed. use_reentrant=False is recommended, but if you need to preserve the current default behavior, you can pass use_reentrant=True. Refer to docs for more details on the differences between the two variants.\n",
      "  return fn(*args, **kwargs)\n",
      "/usr/local/lib/python3.10/dist-packages/huggingface_hub/file_download.py:797: FutureWarning: `resume_download` is deprecated and will be removed in version 1.0.0. Downloads always resume when possible. If you want to force a new download, use `force_download=True`.\n",
      "  warnings.warn(\n",
      "/usr/local/lib/python3.10/dist-packages/torch/_dynamo/eval_frame.py:632: UserWarning: torch.utils.checkpoint: the use_reentrant parameter should be passed explicitly. In version 2.5 we will raise an exception if use_reentrant is not passed. use_reentrant=False is recommended, but if you need to preserve the current default behavior, you can pass use_reentrant=True. Refer to docs for more details on the differences between the two variants.\n",
      "  return fn(*args, **kwargs)\n",
      "/usr/local/lib/python3.10/dist-packages/huggingface_hub/file_download.py:797: FutureWarning: `resume_download` is deprecated and will be removed in version 1.0.0. Downloads always resume when possible. If you want to force a new download, use `force_download=True`.\n",
      "  warnings.warn(\n",
      "/usr/local/lib/python3.10/dist-packages/torch/_dynamo/eval_frame.py:632: UserWarning: torch.utils.checkpoint: the use_reentrant parameter should be passed explicitly. In version 2.5 we will raise an exception if use_reentrant is not passed. use_reentrant=False is recommended, but if you need to preserve the current default behavior, you can pass use_reentrant=True. Refer to docs for more details on the differences between the two variants.\n",
      "  return fn(*args, **kwargs)\n",
      "/usr/local/lib/python3.10/dist-packages/huggingface_hub/file_download.py:797: FutureWarning: `resume_download` is deprecated and will be removed in version 1.0.0. Downloads always resume when possible. If you want to force a new download, use `force_download=True`.\n",
      "  warnings.warn(\n",
      "/usr/local/lib/python3.10/dist-packages/torch/_dynamo/eval_frame.py:632: UserWarning: torch.utils.checkpoint: the use_reentrant parameter should be passed explicitly. In version 2.5 we will raise an exception if use_reentrant is not passed. use_reentrant=False is recommended, but if you need to preserve the current default behavior, you can pass use_reentrant=True. Refer to docs for more details on the differences between the two variants.\n",
      "  return fn(*args, **kwargs)\n",
      "/usr/local/lib/python3.10/dist-packages/huggingface_hub/file_download.py:797: FutureWarning: `resume_download` is deprecated and will be removed in version 1.0.0. Downloads always resume when possible. If you want to force a new download, use `force_download=True`.\n",
      "  warnings.warn(\n",
      "/usr/local/lib/python3.10/dist-packages/torch/_dynamo/eval_frame.py:632: UserWarning: torch.utils.checkpoint: the use_reentrant parameter should be passed explicitly. In version 2.5 we will raise an exception if use_reentrant is not passed. use_reentrant=False is recommended, but if you need to preserve the current default behavior, you can pass use_reentrant=True. Refer to docs for more details on the differences between the two variants.\n",
      "  return fn(*args, **kwargs)\n"
     ]
    },
    {
     "data": {
      "text/plain": [
       "TrainOutput(global_step=352, training_loss=2.9012967673215, metrics={'train_runtime': 14433.0406, 'train_samples_per_second': 0.779, 'train_steps_per_second': 0.024, 'total_flos': 3.424834314829824e+16, 'train_loss': 2.9012967673215, 'epoch': 8.0})"
      ]
     },
     "execution_count": 36,
     "metadata": {},
     "output_type": "execute_result"
    }
   ],
   "source": [
    "# 모델 학습\n",
    "trainer.train()"
   ]
  },
  {
   "cell_type": "code",
   "execution_count": 37,
   "metadata": {
    "colab": {
     "base_uri": "https://localhost:8080/"
    },
    "id": "h-2SpvrxMSp-",
    "outputId": "29289571-d872-4d55-ce4d-60d3db556581"
   },
   "outputs": [
    {
     "name": "stderr",
     "output_type": "stream",
     "text": [
      "/usr/local/lib/python3.10/dist-packages/huggingface_hub/file_download.py:797: FutureWarning: `resume_download` is deprecated and will be removed in version 1.0.0. Downloads always resume when possible. If you want to force a new download, use `force_download=True`.\n",
      "  warnings.warn(\n"
     ]
    },
    {
     "data": {
      "text/plain": [
       "('/content/drive/MyDrive/generativeai/models/tokenizer_config.json',\n",
       " '/content/drive/MyDrive/generativeai/models/special_tokens_map.json',\n",
       " '/content/drive/MyDrive/generativeai/models/tokenizer.model',\n",
       " '/content/drive/MyDrive/generativeai/models/added_tokens.json',\n",
       " '/content/drive/MyDrive/generativeai/models/tokenizer.json')"
      ]
     },
     "execution_count": 37,
     "metadata": {},
     "output_type": "execute_result"
    }
   ],
   "source": [
    "trainer.save_model('/content/drive/MyDrive/generativeai/models')\n",
    "tokenizer.save_pretrained('/content/drive/MyDrive/generativeai/models')"
   ]
  },
  {
   "cell_type": "code",
   "execution_count": 39,
   "metadata": {
    "colab": {
     "base_uri": "https://localhost:8080/",
     "height": 234,
     "referenced_widgets": [
      "b80e992f11124651a63e6bd5f77a8520",
      "721464fde8764f1da6789bd7b664c839",
      "a83c72528a5d4b838c60397b0339b70e",
      "6fb84bb2927c4b3d90a1495d262fa717",
      "9a29be08dcbf4e79a5a184eb43cb1d13",
      "1f09947e413b4727860f92e6f7d8fcc9",
      "c13a20c6e01e4966b4c1e4225dc32e14",
      "ac44f22177a04f01909b82322c7f1b5b",
      "8942728eb2d040a88be78efe5baff876",
      "f62b4aed812347bc8041188ae2b7d346",
      "1201d4d1ecbb4b08931bcd82dba988d7",
      "9fe951a0018f4461936deff930840015",
      "505bb18c40274442bf744b3acc18133f",
      "292d803a745849aeb2a07daa6bc21150",
      "3f9c4a2f88d04ae496cd6a1d754ec651",
      "751ecf8af09a4bbba2d2ad6dd5a10722",
      "ce1b026367e043c2af149d1fc512c179",
      "13c361cd51674da4bbf795a39ab34593",
      "aa2c52cda5794d8ba4048207f3d5e006",
      "517f8e91128749449d50af58ca5d473a",
      "5680d17337f7458fbdc7eb9ff17923ea",
      "e2927f6b4d0c437284a4c3b859324371",
      "d711f3e483f84390a0cb46d0b2492a20",
      "0d54a684eb1d47f8819f3cee1f6e35e6",
      "d62409e9acca42a08864f0e789014a2e",
      "f9a9d92e8d314ba2846a6a52301c267c",
      "b6d38f6ad8874413baa6516b14868dab",
      "790bd4b920d5433283302e4d59c64f3e",
      "0232480e8b8044cba90d6c9b0e04cd85",
      "9f1311ba022a4420b1370e815f22caaa",
      "91dedbe347b04d7e84584c2f64106abc",
      "3230dfa7e20949d4b2a27682b33cd0a8",
      "d2fdb3e73e5c4959a5bc9cbc1070c242",
      "ce37b96d10d641088ab70d58536c4ce6",
      "9ae5928ee4344f1d8f45a8c0457b4a56",
      "e38cb0d9d9cc4bb89cef37613d64b7da",
      "6a10098473d347a783351a1df724180d",
      "71adc1b65ec7492197fd33b2392f353b",
      "ed0ca448136644f79d7c0af5399c9953",
      "c1e63dd083f844be9f9b843bd2be358d",
      "4453bf86fd464928b0ad29e77f5b90e2",
      "1c3bdc4bb3c54092be25d794dc30715f",
      "888a120a4c7b4e5792f36b0bf05e7893",
      "413da7f5ab5b400192a0cd5edd6327e9",
      "97efc4854ab74a5da1eb77afff8ded64",
      "07bee0e3956d42dc8d2e51ff0bea4294",
      "858ca8e8974b460b9c786e5289e4bd8b",
      "587b4b8ca60a4c28b331b833a1f7b3db",
      "0e35606b9ffc4d9a85eedcc66640f2f9",
      "ee261051ccf0492385c75bcc0b6f235b",
      "7ab5a5ec280f4a669e16ab4620af9d90",
      "959dc7eadd504252b7125848517ab620",
      "da8b7e2febdc441fa15020f155af8992",
      "cfce188863ec4575abd8c9a654ffc6a4",
      "2aa76800957e4df3bd9c7da6128e3d27"
     ]
    },
    "id": "xt1yGbGXTViJ",
    "outputId": "06cb6801-eb8a-4d06-e21f-f36eb8d2c3ff"
   },
   "outputs": [
    {
     "data": {
      "application/vnd.jupyter.widget-view+json": {
       "model_id": "b80e992f11124651a63e6bd5f77a8520",
       "version_major": 2,
       "version_minor": 0
      },
      "text/plain": [
       "tokenizer.json:   0%|          | 0.00/17.5M [00:00<?, ?B/s]"
      ]
     },
     "metadata": {},
     "output_type": "display_data"
    },
    {
     "data": {
      "application/vnd.jupyter.widget-view+json": {
       "model_id": "9fe951a0018f4461936deff930840015",
       "version_major": 2,
       "version_minor": 0
      },
      "text/plain": [
       "adapter_model.safetensors:   0%|          | 0.00/7.38M [00:00<?, ?B/s]"
      ]
     },
     "metadata": {},
     "output_type": "display_data"
    },
    {
     "data": {
      "application/vnd.jupyter.widget-view+json": {
       "model_id": "d711f3e483f84390a0cb46d0b2492a20",
       "version_major": 2,
       "version_minor": 0
      },
      "text/plain": [
       "Upload 4 LFS files:   0%|          | 0/4 [00:00<?, ?it/s]"
      ]
     },
     "metadata": {},
     "output_type": "display_data"
    },
    {
     "data": {
      "application/vnd.jupyter.widget-view+json": {
       "model_id": "ce37b96d10d641088ab70d58536c4ce6",
       "version_major": 2,
       "version_minor": 0
      },
      "text/plain": [
       "tokenizer.model:   0%|          | 0.00/4.24M [00:00<?, ?B/s]"
      ]
     },
     "metadata": {},
     "output_type": "display_data"
    },
    {
     "data": {
      "application/vnd.jupyter.widget-view+json": {
       "model_id": "97efc4854ab74a5da1eb77afff8ded64",
       "version_major": 2,
       "version_minor": 0
      },
      "text/plain": [
       "training_args.bin:   0%|          | 0.00/4.92k [00:00<?, ?B/s]"
      ]
     },
     "metadata": {},
     "output_type": "display_data"
    },
    {
     "data": {
      "application/vnd.google.colaboratory.intrinsic+json": {
       "type": "string"
      },
      "text/plain": [
       "CommitInfo(commit_url='https://huggingface.co/Chanjeans/gamerecommend/commit/65271e0a5c56c589e60a69ab7527cce195daf526', commit_message='Upload game recommendation model', commit_description='', oid='65271e0a5c56c589e60a69ab7527cce195daf526', pr_url=None, repo_url=RepoUrl('https://huggingface.co/Chanjeans/gamerecommend', endpoint='https://huggingface.co', repo_type='model', repo_id='Chanjeans/gamerecommend'), pr_revision=None, pr_num=None)"
      ]
     },
     "execution_count": 39,
     "metadata": {},
     "output_type": "execute_result"
    }
   ],
   "source": [
    "from huggingface_hub import HfApi\n",
    "\n",
    "# Hugging Face API 객체 생성\n",
    "api = HfApi()\n",
    "\n",
    "# 모델 저장소 경로\n",
    "repo_id = f\"Chanjeans/gamerecommend\"\n",
    "\n",
    "# 모델 업로드\n",
    "api.upload_folder(\n",
    "    folder_path=\"/content/drive/MyDrive/generativeai/models\",  # 모델 폴더 경로\n",
    "    repo_id=repo_id,\n",
    "    commit_message=\"Upload game recommendation model\",\n",
    ")\n"
   ]
  },
  {
   "cell_type": "code",
   "execution_count": 44,
   "metadata": {
    "id": "ltxxhLu3U8XG"
   },
   "outputs": [],
   "source": [
    "from math import exp\n",
    "from math import exp\n",
    "\n",
    "train_loss = 2.35  # 예: 훈련 중 기록된 Loss\n",
    "val_loss = 2.84   # 예: 검증 데이터에서 기록된 Loss\n",
    "\n",
    "train_perplexity = exp(train_loss)\n",
    "val_perplexity = exp(val_loss)\n",
    "\n",
    "print(f\"Training Perplexity: {train_perplexity}\")\n",
    "print(f\"Validation Perplexity: {val_perplexity}\")\n",
    "\n",
    "\n",
    "train_perplexity = exp(train_loss)\n",
    "val_perplexity = exp(val_loss)\n",
    "\n",
    "print(f\"Training Perplexity: {train_perplexity}\")\n",
    "print(f\"Validation Perplexity: {val_perplexity}\")\n"
   ]
  }
 ],
 "metadata": {
  "accelerator": "GPU",
  "colab": {
   "gpuType": "T4",
   "provenance": []
  },
  "kernelspec": {
   "display_name": "Python 3",
   "name": "python3"
  },
  "language_info": {
   "name": "python"
  }
 },
 "nbformat": 4,
 "nbformat_minor": 0
}
